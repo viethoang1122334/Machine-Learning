{
  "nbformat": 4,
  "nbformat_minor": 0,
  "metadata": {
    "colab": {
      "name": "Assignment8.ipynb",
      "provenance": [],
      "include_colab_link": true
    },
    "kernelspec": {
      "name": "python3",
      "display_name": "Python 3"
    }
  },
  "cells": [
    {
      "cell_type": "markdown",
      "metadata": {
        "id": "view-in-github",
        "colab_type": "text"
      },
      "source": [
        "<a href=\"https://colab.research.google.com/github/viethoang1122334/Machine-Learning/blob/master/Assignment8.ipynb\" target=\"_parent\"><img src=\"https://colab.research.google.com/assets/colab-badge.svg\" alt=\"Open In Colab\"/></a>"
      ]
    },
    {
      "cell_type": "markdown",
      "metadata": {
        "id": "L__tx_42SmtQ",
        "colab_type": "text"
      },
      "source": [
        "Assignment 8: Fruit Classification"
      ]
    },
    {
      "cell_type": "markdown",
      "metadata": {
        "id": "wbMM8eM7SrPB",
        "colab_type": "text"
      },
      "source": [
        "Download Fruit data"
      ]
    },
    {
      "cell_type": "code",
      "metadata": {
        "id": "UrC23KXiSo_K",
        "colab_type": "code",
        "colab": {}
      },
      "source": [
        "#from google.colab import files\n",
        "#files.upload()"
      ],
      "execution_count": 0,
      "outputs": []
    },
    {
      "cell_type": "code",
      "metadata": {
        "id": "ycP8s9nUJ75s",
        "colab_type": "code",
        "colab": {}
      },
      "source": [
        "#!pip install -q kaggle"
      ],
      "execution_count": 0,
      "outputs": []
    },
    {
      "cell_type": "code",
      "metadata": {
        "id": "9K-QcdfSJ8O8",
        "colab_type": "code",
        "colab": {}
      },
      "source": [
        "#!mkdir -p ~/.kaggle\n",
        "#!cp kaggle.json ~/.kaggle/"
      ],
      "execution_count": 0,
      "outputs": []
    },
    {
      "cell_type": "code",
      "metadata": {
        "id": "KoOYOT0TKNcA",
        "colab_type": "code",
        "outputId": "5802c3b2-854e-4648-edcd-1ed484e0702a",
        "colab": {
          "base_uri": "https://localhost:8080/",
          "height": 416
        }
      },
      "source": [
        "#!kaggle datasets list -s fruits"
      ],
      "execution_count": 0,
      "outputs": [
        {
          "output_type": "stream",
          "text": [
            "Warning: Your Kaggle API key is readable by other users on this system! To fix this, you can run 'chmod 600 /root/.kaggle/kaggle.json'\n",
            "Warning: Looks like you're using an outdated API Version, please consider updating (server 1.5.6 / client 1.5.4)\n",
            "ref                                                         title                                               size  lastUpdated          downloadCount  \n",
            "----------------------------------------------------------  -------------------------------------------------  -----  -------------------  -------------  \n",
            "moltean/fruits                                              Fruits 360                                         734MB  2019-11-04 21:16:32          31270  \n",
            "sriramr/fruits-fresh-and-rotten-for-classification          Fruits fresh and rotten for classification           4GB  2018-08-24 15:05:40           1246  \n",
            "mjamilmoughal/fruits-with-colors-dataset                    Fruits with colors dataset                          816B  2018-01-13 10:22:33           2621  \n",
            "mbkinaci/fruit-images-for-object-detection                  Fruit Images for Object Detection                   28MB  2018-07-01 20:21:59           3842  \n",
            "prasunroy/natural-images                                    Natural Images                                     342MB  2018-08-11 18:24:11           5437  \n",
            "raghu07/vegetable-and-fruits-price-in-india                 Daily Vegetable and Fruits Prices data  2010-2018   18MB  2018-03-16 15:57:36           1798  \n",
            "footprintnetwork/ecological-footprint                       2016 Global Ecological Footprint                     9KB  2017-03-02 15:00:03           1871  \n",
            "assmoede98/fruits                                           Fruits                                             248MB  2019-06-02 02:42:08             37  \n",
            "kyrodonte/fruits                                            Fruits                                               7MB  2019-08-28 23:09:01             17  \n",
            "balalexv/fruits                                             fruits                                               1GB  2019-09-23 11:14:48             22  \n",
            "openfoodfacts/world-food-facts                              Open Food Facts                                    109MB  2017-09-18 12:27:58          34515  \n",
            "rdayala/fruits                                              fruits                                              274B  2018-01-10 10:36:27            194  \n",
            "ofrancisco/emoji-diet-nutritional-data-sr28                 Emoji Diet Nutritional Data                          6KB  2018-06-25 06:29:01            471  \n",
            "debajyotisaha8221/fruits                                    fruits                                             408MB  2019-11-01 09:59:51              3  \n",
            "rajanand/key-indicators-of-annual-health-survey             Health Analytics                                     1MB  2017-08-09 19:21:42           5938  \n",
            "yashmor31/customer-feedback-on-delivering-fresh-vegetables  Customer Feedback on Delivering Fresh Vegetables     2KB  2019-03-22 08:28:24            177  \n",
            "nathanstrong1/apples-h5py                                   apples_h5py                                        516MB  2019-06-22 23:30:41             83  \n",
            "amoghmisra27/grocery-store-fruits-and-vegies                Grocery Store Fruits and Vegies                    232MB  2019-11-10 09:32:40             12  \n",
            "overwatch5601/apple-similarity-dataset                      Apple Similarity Dataset                             7MB  2019-08-12 21:11:20             52  \n",
            "ztaihong/fruits360v14                                       fruits360v14                                       175MB  2019-10-02 06:09:08             38  \n"
          ],
          "name": "stdout"
        }
      ]
    },
    {
      "cell_type": "code",
      "metadata": {
        "id": "4uiFp5xGKSUw",
        "colab_type": "code",
        "outputId": "def1ca62-84fa-41d0-8e4d-2eb63285be0d",
        "colab": {
          "base_uri": "https://localhost:8080/",
          "height": 100
        }
      },
      "source": [
        "#!kaggle datasets download -d moltean/fruits\n",
        "#!ls"
      ],
      "execution_count": 0,
      "outputs": [
        {
          "output_type": "stream",
          "text": [
            "Warning: Your Kaggle API key is readable by other users on this system! To fix this, you can run 'chmod 600 /root/.kaggle/kaggle.json'\n",
            "Downloading fruits.zip to /content\n",
            "100% 734M/734M [00:07<00:00, 124MB/s]\n",
            "100% 734M/734M [00:07<00:00, 103MB/s]\n",
            "fruits.zip  kaggle.json  sample_data\n"
          ],
          "name": "stdout"
        }
      ]
    },
    {
      "cell_type": "code",
      "metadata": {
        "id": "J3LTZNwCLCQU",
        "colab_type": "code",
        "outputId": "c1b0f156-05dd-42bf-bb4d-575c30b76409",
        "colab": {
          "base_uri": "https://localhost:8080/",
          "height": 120
        }
      },
      "source": [
        "from google.colab import drive\n",
        "drive.mount('/content/gdrive')"
      ],
      "execution_count": 1,
      "outputs": [
        {
          "output_type": "stream",
          "text": [
            "Go to this URL in a browser: https://accounts.google.com/o/oauth2/auth?client_id=947318989803-6bn6qk8qdgf4n4g3pfee6491hc0brc4i.apps.googleusercontent.com&redirect_uri=urn%3aietf%3awg%3aoauth%3a2.0%3aoob&response_type=code&scope=email%20https%3a%2f%2fwww.googleapis.com%2fauth%2fdocs.test%20https%3a%2f%2fwww.googleapis.com%2fauth%2fdrive%20https%3a%2f%2fwww.googleapis.com%2fauth%2fdrive.photos.readonly%20https%3a%2f%2fwww.googleapis.com%2fauth%2fpeopleapi.readonly\n",
            "\n",
            "Enter your authorization code:\n",
            "··········\n",
            "Mounted at /content/gdrive\n"
          ],
          "name": "stdout"
        }
      ]
    },
    {
      "cell_type": "code",
      "metadata": {
        "id": "sTmEIuQyMory",
        "colab_type": "code",
        "outputId": "a5891c6f-6818-46b4-bac9-aab0d686ee12",
        "colab": {
          "base_uri": "https://localhost:8080/",
          "height": 33
        }
      },
      "source": [
        "#!ls \"/content\""
      ],
      "execution_count": 0,
      "outputs": [
        {
          "output_type": "stream",
          "text": [
            "fruits.zip  gdrive  kaggle.json  sample_data\n"
          ],
          "name": "stdout"
        }
      ]
    },
    {
      "cell_type": "code",
      "metadata": {
        "id": "BpKyg5fqNDl_",
        "colab_type": "code",
        "colab": {}
      },
      "source": [
        "#!unzip -q \"/content/fruits.zip\""
      ],
      "execution_count": 0,
      "outputs": []
    },
    {
      "cell_type": "code",
      "metadata": {
        "id": "asCK5arINcZD",
        "colab_type": "code",
        "colab": {}
      },
      "source": [
        "#!unzip  \"/content/fruits.zip\" -d \"/content/gdrive/My Drive/Fruit\"\n"
      ],
      "execution_count": 0,
      "outputs": []
    },
    {
      "cell_type": "code",
      "metadata": {
        "id": "waOwGdzpMRX8",
        "colab_type": "code",
        "colab": {}
      },
      "source": [
        "import matplotlib.pyplot as plt\n",
        "import matplotlib.image as mpimg"
      ],
      "execution_count": 0,
      "outputs": []
    },
    {
      "cell_type": "markdown",
      "metadata": {
        "id": "DSuOZMip2xuw",
        "colab_type": "text"
      },
      "source": [
        "Build CNN"
      ]
    },
    {
      "cell_type": "code",
      "metadata": {
        "id": "NR-W77cPMdJ8",
        "colab_type": "code",
        "colab": {
          "base_uri": "https://localhost:8080/",
          "height": 53
        },
        "outputId": "ed8eb3bf-382f-45d7-81dd-dbfa67400b21"
      },
      "source": [
        "import os\n",
        "root='/content/gdrive/My Drive/Fruit/fruits-360_dataset/fruits-360/Training'\n",
        "dirlist = [ item for item in os.listdir(root) if os.path.isdir(os.path.join(root, item)) ]\n",
        "print(dirlist)"
      ],
      "execution_count": 4,
      "outputs": [
        {
          "output_type": "stream",
          "text": [
            "['Apple Braeburn', 'Apple Crimson Snow', 'Apple Golden 1', 'Apple Golden 2', 'Apple Golden 3', 'Apple Granny Smith', 'Apple Pink Lady', 'Apple Red 1', 'Apple Red 2', 'Apple Red 3', 'Apple Red Delicious', 'Apple Red Yellow 1', 'Apple Red Yellow 2', 'Apricot', 'Avocado ripe', 'Avocado', 'Banana Lady Finger', 'Banana Red', 'Banana', 'Beetroot', 'Blueberry', 'Cactus fruit', 'Cantaloupe 1', 'Cantaloupe 2', 'Carambula', 'Cauliflower', 'Cherry 1', 'Cherry 2', 'Cherry Rainier', 'Cherry Wax Black', 'Cherry Wax Red', 'Cherry Wax Yellow', 'Chestnut', 'Clementine', 'Cocos', 'Dates', 'Eggplant', 'Ginger Root', 'Granadilla', 'Grape Blue', 'Grape Pink', 'Grape White 2', 'Grape White 3', 'Grape White 4', 'Grape White', 'Grapefruit Pink', 'Grapefruit White', 'Guava', 'Hazelnut', 'Huckleberry', 'Kaki', 'Kiwi', 'Kohlrabi', 'Kumquats', 'Lemon Meyer', 'Lemon', 'Limes', 'Lychee', 'Mandarine', 'Mango Red', 'Mango', 'Mangostan', 'Maracuja', 'Melon Piel de Sapo', 'Mulberry', 'Nectarine Flat', 'Nectarine', 'Nut Forest', 'Nut Pecan', 'Onion Red Peeled', 'Onion Red', 'Onion White', 'Orange', 'Papaya', 'Passion Fruit', 'Peach 2', 'Peach Flat', 'Peach', 'Pear Abate', 'Pear Forelle', 'Pear Kaiser']\n"
          ],
          "name": "stdout"
        }
      ]
    },
    {
      "cell_type": "code",
      "metadata": {
        "id": "4yjXUT1vEG8t",
        "colab_type": "code",
        "colab": {
          "base_uri": "https://localhost:8080/",
          "height": 78
        },
        "outputId": "7325414f-4663-4c3b-8ba6-47f72b0e23fc"
      },
      "source": [
        "batch_size = 128\n",
        "from tensorflow.keras.preprocessing.image import ImageDataGenerator\n",
        "# All images will be rescaled by 1./255\n",
        "train_datagen = ImageDataGenerator(rescale=1/255)\n",
        "# Flow training images in batches of 128 using train_datagen generator\n",
        "train_generator = train_datagen.flow_from_directory(\n",
        "        '/content/gdrive/My Drive/Fruit/fruits-360_dataset/fruits-360/Training',  # This is the source directory for training images\n",
        "        target_size=(200, 200),  # All images will be resized to 200 x 200\n",
        "        batch_size=batch_size,# Specify the classes explicitly\n",
        "        classes = dirlist, # Since we use categorical_crossentropy loss, we need categorical labels\n",
        "        class_mode='categorical')"
      ],
      "execution_count": 7,
      "outputs": [
        {
          "output_type": "display_data",
          "data": {
            "text/html": [
              "<p style=\"color: red;\">\n",
              "The default version of TensorFlow in Colab will soon switch to TensorFlow 2.x.<br>\n",
              "We recommend you <a href=\"https://www.tensorflow.org/guide/migrate\" target=\"_blank\">upgrade</a> now \n",
              "or ensure your notebook will continue to use TensorFlow 1.x via the <code>%tensorflow_version 1.x</code> magic:\n",
              "<a href=\"https://colab.research.google.com/notebooks/tensorflow_version.ipynb\" target=\"_blank\">more info</a>.</p>\n"
            ],
            "text/plain": [
              "<IPython.core.display.HTML object>"
            ]
          },
          "metadata": {
            "tags": []
          }
        },
        {
          "output_type": "stream",
          "text": [
            "Found 33656 images belonging to 81 classes.\n"
          ],
          "name": "stdout"
        }
      ]
    },
    {
      "cell_type": "code",
      "metadata": {
        "id": "Xc4pAPc8NFlK",
        "colab_type": "code",
        "colab": {}
      },
      "source": [
        "import tensorflow as tf"
      ],
      "execution_count": 0,
      "outputs": []
    },
    {
      "cell_type": "code",
      "metadata": {
        "id": "gVXraKvIOqPy",
        "colab_type": "code",
        "colab": {}
      },
      "source": [
        "model = tf.keras.models.Sequential([\n",
        "    # Note the input shape is the desired size of the image 200x 200 with 3 bytes color\n",
        "    # The first convolution\n",
        "    tf.keras.layers.Conv2D(16, (3,3), activation='relu', input_shape=(200, 200, 3)),\n",
        "    tf.keras.layers.MaxPooling2D(2, 2),\n",
        "    # The second convolution\n",
        "    tf.keras.layers.Conv2D(32, (3,3), activation='relu'),\n",
        "    tf.keras.layers.MaxPooling2D(2,2),\n",
        "    # The third convolution\n",
        "    tf.keras.layers.Conv2D(64, (3,3), activation='relu'),\n",
        "    tf.keras.layers.MaxPooling2D(2,2),\n",
        "    # The fourth convolution\n",
        "    tf.keras.layers.Conv2D(64, (3,3), activation='relu'),\n",
        "    tf.keras.layers.MaxPooling2D(2,2),\n",
        "    # The fifth convolution\n",
        "    tf.keras.layers.Conv2D(64, (3,3), activation='relu'),\n",
        "    tf.keras.layers.MaxPooling2D(2,2),\n",
        "    # Flatten the results to feed into a dense layer\n",
        "    tf.keras.layers.Flatten(),\n",
        "    # 128 neuron in the fully-connected layer\n",
        "    tf.keras.layers.Dense(128, activation='relu'),\n",
        "    # 5 output neurons for 5 classes with the softmax activation\n",
        "    tf.keras.layers.Dense(81, activation='softmax')\n",
        "])"
      ],
      "execution_count": 0,
      "outputs": []
    },
    {
      "cell_type": "code",
      "metadata": {
        "id": "EIU2l8XBOw2n",
        "colab_type": "code",
        "colab": {
          "base_uri": "https://localhost:8080/",
          "height": 583
        },
        "outputId": "869f3eeb-2be3-45e9-b9a9-79b80b6c21dc"
      },
      "source": [
        "model.summary()"
      ],
      "execution_count": 22,
      "outputs": [
        {
          "output_type": "stream",
          "text": [
            "Model: \"sequential_1\"\n",
            "_________________________________________________________________\n",
            "Layer (type)                 Output Shape              Param #   \n",
            "=================================================================\n",
            "conv2d_5 (Conv2D)            (None, 198, 198, 16)      448       \n",
            "_________________________________________________________________\n",
            "max_pooling2d_5 (MaxPooling2 (None, 99, 99, 16)        0         \n",
            "_________________________________________________________________\n",
            "conv2d_6 (Conv2D)            (None, 97, 97, 32)        4640      \n",
            "_________________________________________________________________\n",
            "max_pooling2d_6 (MaxPooling2 (None, 48, 48, 32)        0         \n",
            "_________________________________________________________________\n",
            "conv2d_7 (Conv2D)            (None, 46, 46, 64)        18496     \n",
            "_________________________________________________________________\n",
            "max_pooling2d_7 (MaxPooling2 (None, 23, 23, 64)        0         \n",
            "_________________________________________________________________\n",
            "conv2d_8 (Conv2D)            (None, 21, 21, 64)        36928     \n",
            "_________________________________________________________________\n",
            "max_pooling2d_8 (MaxPooling2 (None, 10, 10, 64)        0         \n",
            "_________________________________________________________________\n",
            "conv2d_9 (Conv2D)            (None, 8, 8, 64)          36928     \n",
            "_________________________________________________________________\n",
            "max_pooling2d_9 (MaxPooling2 (None, 4, 4, 64)          0         \n",
            "_________________________________________________________________\n",
            "flatten_1 (Flatten)          (None, 1024)              0         \n",
            "_________________________________________________________________\n",
            "dense_2 (Dense)              (None, 128)               131200    \n",
            "_________________________________________________________________\n",
            "dense_3 (Dense)              (None, 81)                10449     \n",
            "=================================================================\n",
            "Total params: 239,089\n",
            "Trainable params: 239,089\n",
            "Non-trainable params: 0\n",
            "_________________________________________________________________\n"
          ],
          "name": "stdout"
        }
      ]
    },
    {
      "cell_type": "code",
      "metadata": {
        "id": "qxnlY5hcO2KX",
        "colab_type": "code",
        "colab": {}
      },
      "source": [
        "from tensorflow.keras.optimizers import RMSprop\n",
        "\n",
        "model.compile(loss='categorical_crossentropy',\n",
        "              optimizer=RMSprop(lr=0.001),\n",
        "              metrics=['acc'])\n",
        "#model.compile(optimizer = 'adam', loss = 'binary_crossentropy', metrics = ['accuracy'])"
      ],
      "execution_count": 0,
      "outputs": []
    },
    {
      "cell_type": "code",
      "metadata": {
        "id": "NBJjD_ngPKqS",
        "colab_type": "code",
        "colab": {}
      },
      "source": [
        "total_sample=train_generator.n"
      ],
      "execution_count": 0,
      "outputs": []
    },
    {
      "cell_type": "code",
      "metadata": {
        "id": "oOH2wKNWPNHx",
        "colab_type": "code",
        "colab": {
          "base_uri": "https://localhost:8080/",
          "height": 33
        },
        "outputId": "84d6f6b7-9a7d-4287-ac06-122f4267e99e"
      },
      "source": [
        "train_generator = train_datagen.flow_from_directory(\n",
        "        '/content/gdrive/My Drive/Fruit/fruits-360_dataset/fruits-360/Training',  # This is the source directory for training images\n",
        "        target_size=(200, 200),  # All images will be resized to 200 x 200\n",
        "        batch_size=batch_size,\n",
        "        # Specify the classes explicitly\n",
        "        classes = dirlist,\n",
        "        # Since we use categorical_crossentropy loss, we need categorical labels\n",
        "        class_mode='categorical')"
      ],
      "execution_count": 25,
      "outputs": [
        {
          "output_type": "stream",
          "text": [
            "Found 33656 images belonging to 81 classes.\n"
          ],
          "name": "stdout"
        }
      ]
    },
    {
      "cell_type": "code",
      "metadata": {
        "id": "r46pYBKzQnJB",
        "colab_type": "code",
        "colab": {}
      },
      "source": [
        "n_epochs = 2"
      ],
      "execution_count": 0,
      "outputs": []
    },
    {
      "cell_type": "code",
      "metadata": {
        "id": "RM34vrnhN1PQ",
        "colab_type": "code",
        "colab": {
          "base_uri": "https://localhost:8080/",
          "height": 83
        },
        "outputId": "85a100be-cc87-4fe9-b6d0-573f0a84f81e"
      },
      "source": [
        "history = model.fit_generator(\n",
        "        train_generator, \n",
        "        steps_per_epoch=int(total_sample/batch_size),  \n",
        "        epochs=n_epochs,\n",
        "        verbose=1)"
      ],
      "execution_count": 29,
      "outputs": [
        {
          "output_type": "stream",
          "text": [
            "Epoch 1/2\n",
            "262/262 [==============================] - 1249s 5s/step - loss: 0.2619 - acc: 0.9369\n",
            "Epoch 2/2\n",
            "262/262 [==============================] - 1250s 5s/step - loss: 0.1471 - acc: 0.9687\n"
          ],
          "name": "stdout"
        }
      ]
    },
    {
      "cell_type": "code",
      "metadata": {
        "id": "ARjGOsQKRMZr",
        "colab_type": "code",
        "colab": {
          "base_uri": "https://localhost:8080/",
          "height": 330
        },
        "outputId": "0b4ad75b-c18a-4d71-ec27-57c96059d9a8"
      },
      "source": [
        "plt.figure(figsize=(7,4))\n",
        "plt.plot([i+1 for i in range(n_epochs)],history.history['acc'],'-o',c='k',lw=2,markersize=9)\n",
        "plt.grid(True)\n",
        "plt.title(\"Training accuracy with epochs\\n\",fontsize=18)\n",
        "plt.xlabel(\"Training epochs\",fontsize=15)\n",
        "plt.ylabel(\"Training accuracy\",fontsize=15)\n",
        "plt.xticks(fontsize=15)\n",
        "plt.yticks(fontsize=15)\n",
        "plt.show()"
      ],
      "execution_count": 32,
      "outputs": [
        {
          "output_type": "display_data",
          "data": {
            "image/png": "[encoded data removed]",
            "text/plain": [
              "<Figure size 504x288 with 1 Axes>"
            ]
          },
          "metadata": {
            "tags": []
          }
        }
      ]
    },
    {
      "cell_type": "code",
      "metadata": {
        "id": "G5PRaLzsMTSa",
        "colab_type": "code",
        "colab": {
          "base_uri": "https://localhost:8080/",
          "height": 330
        },
        "outputId": "2b3f7f8a-1bd6-48d0-ec92-55857e9c7619"
      },
      "source": [
        "plt.figure(figsize=(7,4))\n",
        "plt.plot([i+1 for i in range(n_epochs)],history.history['loss'],'-o',c='k',lw=2,markersize=9)\n",
        "plt.grid(True)\n",
        "plt.title(\"Training loss with epochs\\n\",fontsize=18)\n",
        "plt.xlabel(\"Training epochs\",fontsize=15)\n",
        "plt.ylabel(\"Training loss\",fontsize=15)\n",
        "plt.xticks(fontsize=15)\n",
        "plt.yticks(fontsize=15)\n",
        "plt.show()"
      ],
      "execution_count": 33,
      "outputs": [
        {
          "output_type": "display_data",
          "data": {
            "image/png": "[encoded data removed]",
            "text/plain": [
              "<Figure size 504x288 with 1 Axes>"
            ]
          },
          "metadata": {
            "tags": []
          }
        }
      ]
    },
    {
      "cell_type": "code",
      "metadata": {
        "id": "HHI1u3PiMavA",
        "colab_type": "code",
        "colab": {}
      },
      "source": [
        "#To save this model \n",
        "#model.save('/content/gdrive/My Drive/Fruit/my_model.h5')"
      ],
      "execution_count": 0,
      "outputs": []
    },
    {
      "cell_type": "code",
      "metadata": {
        "id": "jrswFQUfMEtZ",
        "colab_type": "code",
        "colab": {}
      },
      "source": [
        "#To load this model\n",
        "#from keras.models import load_model\n",
        "#model = load_model('my_model.h5')"
      ],
      "execution_count": 0,
      "outputs": []
    },
    {
      "cell_type": "code",
      "metadata": {
        "id": "_0YdLMN_RJy-",
        "colab_type": "code",
        "colab": {}
      },
      "source": [
        "from PIL import Image\n",
        "img_test=Image.open('/content/gdrive/My Drive/Fruit/fruits-360_dataset/fruits-360/Test/Apple Braeburn/r_90_100.jpg')"
      ],
      "execution_count": 0,
      "outputs": []
    },
    {
      "cell_type": "code",
      "metadata": {
        "id": "8_RbwkzzSYLi",
        "colab_type": "code",
        "colab": {}
      },
      "source": [
        "img_test = img_test.resize((200,200))"
      ],
      "execution_count": 0,
      "outputs": []
    },
    {
      "cell_type": "code",
      "metadata": {
        "id": "csxM2eGmSZVD",
        "colab_type": "code",
        "colab": {
          "base_uri": "https://localhost:8080/",
          "height": 268
        },
        "outputId": "11ab932f-12b1-4891-e230-cc3051a397d7"
      },
      "source": [
        "plt.imshow(img_test)\n",
        "plt.show()"
      ],
      "execution_count": 47,
      "outputs": [
        {
          "output_type": "display_data",
          "data": {
            "image/png": "[encoded data removed]",
            "text/plain": [
              "<Figure size 432x288 with 1 Axes>"
            ]
          },
          "metadata": {
            "tags": []
          }
        }
      ]
    },
    {
      "cell_type": "code",
      "metadata": {
        "id": "L1ti0B-4Sb39",
        "colab_type": "code",
        "colab": {}
      },
      "source": [
        "# Expand dimensions for proper prediction\n",
        "import numpy as np\n",
        "img_test=np.expand_dims(img_test,axis=0)"
      ],
      "execution_count": 0,
      "outputs": []
    },
    {
      "cell_type": "code",
      "metadata": {
        "id": "em0dZ3dfR-2Y",
        "colab_type": "code",
        "colab": {
          "base_uri": "https://localhost:8080/",
          "height": 116
        },
        "outputId": "3886747d-f937-4ddf-b6e9-37ea2044fffb"
      },
      "source": [
        "model.predict(img_test)"
      ],
      "execution_count": 49,
      "outputs": [
        {
          "output_type": "execute_result",
          "data": {
            "text/plain": [
              "array([[0., 0., 0., 0., 0., 0., 0., 0., 1., 0., 0., 0., 0., 0., 0., 0.,\n",
              "        0., 0., 0., 0., 0., 0., 0., 0., 0., 0., 0., 0., 0., 0., 0., 0.,\n",
              "        0., 0., 0., 0., 0., 0., 0., 0., 0., 0., 0., 0., 0., 0., 0., 0.,\n",
              "        0., 0., 0., 0., 0., 0., 0., 0., 0., 0., 0., 0., 0., 0., 0., 0.,\n",
              "        0., 0., 0., 0., 0., 0., 0., 0., 0., 0., 0., 0., 0., 0., 0., 0.,\n",
              "        0.]], dtype=float32)"
            ]
          },
          "metadata": {
            "tags": []
          },
          "execution_count": 49
        }
      ]
    },
    {
      "cell_type": "code",
      "metadata": {
        "id": "U1bpqHlfUo16",
        "colab_type": "code",
        "colab": {
          "base_uri": "https://localhost:8080/",
          "height": 33
        },
        "outputId": "0cb5d202-8b91-4e26-bbd2-53531bbc4878"
      },
      "source": [
        "y_prob = model.predict(img_test) \n",
        "y_classes = y_prob.argmax(axis=-1)\n",
        "y_classes"
      ],
      "execution_count": 54,
      "outputs": [
        {
          "output_type": "execute_result",
          "data": {
            "text/plain": [
              "array([8])"
            ]
          },
          "metadata": {
            "tags": []
          },
          "execution_count": 54
        }
      ]
    },
    {
      "cell_type": "code",
      "metadata": {
        "id": "LoWdjNI5Tl03",
        "colab_type": "code",
        "colab": {
          "base_uri": "https://localhost:8080/",
          "height": 1000
        },
        "outputId": "bf700d56-b71c-4cc6-d530-a790cca7847c"
      },
      "source": [
        "label_map = (train_generator.class_indices)\n",
        "label_map"
      ],
      "execution_count": 55,
      "outputs": [
        {
          "output_type": "execute_result",
          "data": {
            "text/plain": [
              "{'Apple Braeburn': 0,\n",
              " 'Apple Crimson Snow': 1,\n",
              " 'Apple Golden 1': 2,\n",
              " 'Apple Golden 2': 3,\n",
              " 'Apple Golden 3': 4,\n",
              " 'Apple Granny Smith': 5,\n",
              " 'Apple Pink Lady': 6,\n",
              " 'Apple Red 1': 7,\n",
              " 'Apple Red 2': 8,\n",
              " 'Apple Red 3': 9,\n",
              " 'Apple Red Delicious': 10,\n",
              " 'Apple Red Yellow 1': 11,\n",
              " 'Apple Red Yellow 2': 12,\n",
              " 'Apricot': 13,\n",
              " 'Avocado': 15,\n",
              " 'Avocado ripe': 14,\n",
              " 'Banana': 18,\n",
              " 'Banana Lady Finger': 16,\n",
              " 'Banana Red': 17,\n",
              " 'Beetroot': 19,\n",
              " 'Blueberry': 20,\n",
              " 'Cactus fruit': 21,\n",
              " 'Cantaloupe 1': 22,\n",
              " 'Cantaloupe 2': 23,\n",
              " 'Carambula': 24,\n",
              " 'Cauliflower': 25,\n",
              " 'Cherry 1': 26,\n",
              " 'Cherry 2': 27,\n",
              " 'Cherry Rainier': 28,\n",
              " 'Cherry Wax Black': 29,\n",
              " 'Cherry Wax Red': 30,\n",
              " 'Cherry Wax Yellow': 31,\n",
              " 'Chestnut': 32,\n",
              " 'Clementine': 33,\n",
              " 'Cocos': 34,\n",
              " 'Dates': 35,\n",
              " 'Eggplant': 36,\n",
              " 'Ginger Root': 37,\n",
              " 'Granadilla': 38,\n",
              " 'Grape Blue': 39,\n",
              " 'Grape Pink': 40,\n",
              " 'Grape White': 44,\n",
              " 'Grape White 2': 41,\n",
              " 'Grape White 3': 42,\n",
              " 'Grape White 4': 43,\n",
              " 'Grapefruit Pink': 45,\n",
              " 'Grapefruit White': 46,\n",
              " 'Guava': 47,\n",
              " 'Hazelnut': 48,\n",
              " 'Huckleberry': 49,\n",
              " 'Kaki': 50,\n",
              " 'Kiwi': 51,\n",
              " 'Kohlrabi': 52,\n",
              " 'Kumquats': 53,\n",
              " 'Lemon': 55,\n",
              " 'Lemon Meyer': 54,\n",
              " 'Limes': 56,\n",
              " 'Lychee': 57,\n",
              " 'Mandarine': 58,\n",
              " 'Mango': 60,\n",
              " 'Mango Red': 59,\n",
              " 'Mangostan': 61,\n",
              " 'Maracuja': 62,\n",
              " 'Melon Piel de Sapo': 63,\n",
              " 'Mulberry': 64,\n",
              " 'Nectarine': 66,\n",
              " 'Nectarine Flat': 65,\n",
              " 'Nut Forest': 67,\n",
              " 'Nut Pecan': 68,\n",
              " 'Onion Red': 70,\n",
              " 'Onion Red Peeled': 69,\n",
              " 'Onion White': 71,\n",
              " 'Orange': 72,\n",
              " 'Papaya': 73,\n",
              " 'Passion Fruit': 74,\n",
              " 'Peach': 77,\n",
              " 'Peach 2': 75,\n",
              " 'Peach Flat': 76,\n",
              " 'Pear Abate': 78,\n",
              " 'Pear Forelle': 79,\n",
              " 'Pear Kaiser': 80}"
            ]
          },
          "metadata": {
            "tags": []
          },
          "execution_count": 55
        }
      ]
    },
    {
      "cell_type": "code",
      "metadata": {
        "id": "Sxgpm5gEPPJ6",
        "colab_type": "code",
        "colab": {}
      },
      "source": [
        "import numpy"
      ],
      "execution_count": 0,
      "outputs": []
    },
    {
      "cell_type": "code",
      "metadata": {
        "id": "csnGNMbo1LuE",
        "colab_type": "code",
        "colab": {
          "base_uri": "https://localhost:8080/",
          "height": 33
        },
        "outputId": "1a0806a1-1544-462a-b7d9-985a3d606e6f"
      },
      "source": [
        "test_generator = ImageDataGenerator()\n",
        "test_data_generator = test_generator.flow_from_directory(\n",
        "    '/content/gdrive/My Drive/Fruit/fruits-360_dataset/fruits-360/Test', # Put your path here\n",
        "     target_size=(200, 200),\n",
        "    batch_size=32,\n",
        "    shuffle=False)\n",
        "test_steps_per_epoch = numpy.math.ceil(test_data_generator.samples / test_data_generator.batch_size)\n",
        "\n",
        "predictions = model.predict_generator(test_data_generator, steps=test_steps_per_epoch)\n",
        "# Get most likely class\n",
        "predicted_classes = numpy.argmax(predictions, axis=1)"
      ],
      "execution_count": 0,
      "outputs": [
        {
          "output_type": "stream",
          "text": [
            "Found 20622 images belonging to 120 classes.\n"
          ],
          "name": "stdout"
        }
      ]
    },
    {
      "cell_type": "code",
      "metadata": {
        "id": "k3NGxXEA22T5",
        "colab_type": "code",
        "colab": {}
      },
      "source": [
        ""
      ],
      "execution_count": 0,
      "outputs": []
    }
  ]
}