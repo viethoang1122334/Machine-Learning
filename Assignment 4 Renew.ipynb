{
 "cells": [
  {
   "cell_type": "markdown",
   "metadata": {},
   "source": [
    "# Assignment 4"
   ]
  },
  {
   "cell_type": "markdown",
   "metadata": {},
   "source": [
    "# Table of contents\n",
    "1. [Introduction](#introduction)\n",
    "\n",
    "2. [Examine and explore data (visualization, interactions among features)](#question1)\n",
    "\n",
    "3. [Apply the model for prediction with holdout and cross validation](#question2)\n",
    "\n",
    "4. [Using PCA, apply the model with holdout and cross validation](#question3)\n",
    "\n",
    "5. [Visualize the residue and homoscedasticity](#question4)\n",
    "\n",
    "6. [Tune the model if necessary](#question5)\n",
    "\n",
    "7. [Write up analysis for each section (for example, explain why the model is overfitting, explain why applying PCA is better, \n",
    "etc.)](#question6)\n",
    "\n",
    "8. [Include conclusions for summary](#question7)"
   ]
  },
  {
   "cell_type": "markdown",
   "metadata": {},
   "source": [
    "## 1. Introduction <a name=\"introduction\"></a>\n",
    "This project use dataset from https://www.kaggle.com/anthonypino/melbourne-housing-market to create a linear regression model to predict a house's value. The project will answer 7 following questions which are also guideline for building a model.\n",
    "1. Examine and explore data (visualization, interactions among features)\n",
    "2. Apply the model for prediction with holdout and cross validation\n",
    "3. Using PCA, apply the model with holdout and cross validation\n",
    "4. Visualize the residue and homoscedasticity\n",
    "5. Tune the model if necessary\n",
    "6. Write up analysis for each section (for example, explain why the model is overfitting, explain why applying PCA is better, etc.)\n",
    "7. Include conclusions for summary"
   ]
  },
  {
   "cell_type": "markdown",
   "metadata": {},
   "source": [
    "## 2. Examine and explore data (visualization, interactions among features)<a name=\"dataset\"></a>"
   ]
  },
  {
   "cell_type": "markdown",
   "metadata": {},
   "source": [
    "#### Import Python libraries<a name=\"library\"></a>"
   ]
  },
  {
   "cell_type": "code",
   "execution_count": 1,
   "metadata": {},
   "outputs": [],
   "source": [
    "# Import libraries\n",
    "import numpy as np\n",
    "import pandas as pd\n",
    "import seaborn as sns\n",
    "import sklearn \n",
    "import matplotlib.pyplot as plt\n",
    "%matplotlib inline"
   ]
  },
  {
   "cell_type": "markdown",
   "metadata": {},
   "source": [
    "#### Import data<a name=\"data\"></a>"
   ]
  },
  {
   "cell_type": "code",
   "execution_count": 2,
   "metadata": {},
   "outputs": [],
   "source": [
    "url = \"D:\\Hoang\\SauDaiHoc\\Python\\CBD Robotics\\Assignment 4\\Melbourne_housing_FULL.csv\"\n",
    "data = pd.read_csv(url)"
   ]
  },
  {
   "cell_type": "markdown",
   "metadata": {},
   "source": [
    "#### Data description<a name=\"description\"></a>"
   ]
  },
  {
   "cell_type": "code",
   "execution_count": 3,
   "metadata": {},
   "outputs": [
    {
     "name": "stdout",
     "output_type": "stream",
     "text": [
      "Shape of dataframe is: (34857, 21)\n"
     ]
    }
   ],
   "source": [
    "# Number of rows and columns\n",
    "print(\"Shape of dataframe is: {}\".format(data.shape))"
   ]
  },
  {
   "cell_type": "code",
   "execution_count": 4,
   "metadata": {},
   "outputs": [
    {
     "data": {
      "text/plain": [
       "Index(['Suburb', 'Address', 'Rooms', 'Type', 'Price', 'Method', 'SellerG',\n",
       "       'Date', 'Distance', 'Postcode', 'Bedroom2', 'Bathroom', 'Car',\n",
       "       'Landsize', 'BuildingArea', 'YearBuilt', 'CouncilArea', 'Lattitude',\n",
       "       'Longtitude', 'Regionname', 'Propertycount'],\n",
       "      dtype='object')"
      ]
     },
     "execution_count": 4,
     "metadata": {},
     "output_type": "execute_result"
    }
   ],
   "source": [
    "# Dataset columns\n",
    "data.columns"
   ]
  },
  {
   "cell_type": "code",
   "execution_count": 5,
   "metadata": {},
   "outputs": [
    {
     "data": {
      "text/html": [
       "<div>\n",
       "<style scoped>\n",
       "    .dataframe tbody tr th:only-of-type {\n",
       "        vertical-align: middle;\n",
       "    }\n",
       "\n",
       "    .dataframe tbody tr th {\n",
       "        vertical-align: top;\n",
       "    }\n",
       "\n",
       "    .dataframe thead th {\n",
       "        text-align: right;\n",
       "    }\n",
       "</style>\n",
       "<table border=\"1\" class=\"dataframe\">\n",
       "  <thead>\n",
       "    <tr style=\"text-align: right;\">\n",
       "      <th></th>\n",
       "      <th>Suburb</th>\n",
       "      <th>Address</th>\n",
       "      <th>Rooms</th>\n",
       "      <th>Type</th>\n",
       "      <th>Price</th>\n",
       "      <th>Method</th>\n",
       "      <th>SellerG</th>\n",
       "      <th>Date</th>\n",
       "      <th>Distance</th>\n",
       "      <th>Postcode</th>\n",
       "      <th>Bedroom2</th>\n",
       "      <th>Bathroom</th>\n",
       "      <th>Car</th>\n",
       "      <th>Landsize</th>\n",
       "      <th>BuildingArea</th>\n",
       "      <th>YearBuilt</th>\n",
       "      <th>CouncilArea</th>\n",
       "      <th>Lattitude</th>\n",
       "      <th>Longtitude</th>\n",
       "      <th>Regionname</th>\n",
       "      <th>Propertycount</th>\n",
       "    </tr>\n",
       "  </thead>\n",
       "  <tbody>\n",
       "    <tr>\n",
       "      <td>0</td>\n",
       "      <td>Abbotsford</td>\n",
       "      <td>68 Studley St</td>\n",
       "      <td>2</td>\n",
       "      <td>h</td>\n",
       "      <td>NaN</td>\n",
       "      <td>SS</td>\n",
       "      <td>Jellis</td>\n",
       "      <td>3/09/2016</td>\n",
       "      <td>2.5</td>\n",
       "      <td>3067.0</td>\n",
       "      <td>2.0</td>\n",
       "      <td>1.0</td>\n",
       "      <td>1.0</td>\n",
       "      <td>126.0</td>\n",
       "      <td>NaN</td>\n",
       "      <td>NaN</td>\n",
       "      <td>Yarra City Council</td>\n",
       "      <td>-37.8014</td>\n",
       "      <td>144.9958</td>\n",
       "      <td>Northern Metropolitan</td>\n",
       "      <td>4019.0</td>\n",
       "    </tr>\n",
       "    <tr>\n",
       "      <td>1</td>\n",
       "      <td>Abbotsford</td>\n",
       "      <td>85 Turner St</td>\n",
       "      <td>2</td>\n",
       "      <td>h</td>\n",
       "      <td>1480000.0</td>\n",
       "      <td>S</td>\n",
       "      <td>Biggin</td>\n",
       "      <td>3/12/2016</td>\n",
       "      <td>2.5</td>\n",
       "      <td>3067.0</td>\n",
       "      <td>2.0</td>\n",
       "      <td>1.0</td>\n",
       "      <td>1.0</td>\n",
       "      <td>202.0</td>\n",
       "      <td>NaN</td>\n",
       "      <td>NaN</td>\n",
       "      <td>Yarra City Council</td>\n",
       "      <td>-37.7996</td>\n",
       "      <td>144.9984</td>\n",
       "      <td>Northern Metropolitan</td>\n",
       "      <td>4019.0</td>\n",
       "    </tr>\n",
       "    <tr>\n",
       "      <td>2</td>\n",
       "      <td>Abbotsford</td>\n",
       "      <td>25 Bloomburg St</td>\n",
       "      <td>2</td>\n",
       "      <td>h</td>\n",
       "      <td>1035000.0</td>\n",
       "      <td>S</td>\n",
       "      <td>Biggin</td>\n",
       "      <td>4/02/2016</td>\n",
       "      <td>2.5</td>\n",
       "      <td>3067.0</td>\n",
       "      <td>2.0</td>\n",
       "      <td>1.0</td>\n",
       "      <td>0.0</td>\n",
       "      <td>156.0</td>\n",
       "      <td>79.0</td>\n",
       "      <td>1900.0</td>\n",
       "      <td>Yarra City Council</td>\n",
       "      <td>-37.8079</td>\n",
       "      <td>144.9934</td>\n",
       "      <td>Northern Metropolitan</td>\n",
       "      <td>4019.0</td>\n",
       "    </tr>\n",
       "    <tr>\n",
       "      <td>3</td>\n",
       "      <td>Abbotsford</td>\n",
       "      <td>18/659 Victoria St</td>\n",
       "      <td>3</td>\n",
       "      <td>u</td>\n",
       "      <td>NaN</td>\n",
       "      <td>VB</td>\n",
       "      <td>Rounds</td>\n",
       "      <td>4/02/2016</td>\n",
       "      <td>2.5</td>\n",
       "      <td>3067.0</td>\n",
       "      <td>3.0</td>\n",
       "      <td>2.0</td>\n",
       "      <td>1.0</td>\n",
       "      <td>0.0</td>\n",
       "      <td>NaN</td>\n",
       "      <td>NaN</td>\n",
       "      <td>Yarra City Council</td>\n",
       "      <td>-37.8114</td>\n",
       "      <td>145.0116</td>\n",
       "      <td>Northern Metropolitan</td>\n",
       "      <td>4019.0</td>\n",
       "    </tr>\n",
       "    <tr>\n",
       "      <td>4</td>\n",
       "      <td>Abbotsford</td>\n",
       "      <td>5 Charles St</td>\n",
       "      <td>3</td>\n",
       "      <td>h</td>\n",
       "      <td>1465000.0</td>\n",
       "      <td>SP</td>\n",
       "      <td>Biggin</td>\n",
       "      <td>4/03/2017</td>\n",
       "      <td>2.5</td>\n",
       "      <td>3067.0</td>\n",
       "      <td>3.0</td>\n",
       "      <td>2.0</td>\n",
       "      <td>0.0</td>\n",
       "      <td>134.0</td>\n",
       "      <td>150.0</td>\n",
       "      <td>1900.0</td>\n",
       "      <td>Yarra City Council</td>\n",
       "      <td>-37.8093</td>\n",
       "      <td>144.9944</td>\n",
       "      <td>Northern Metropolitan</td>\n",
       "      <td>4019.0</td>\n",
       "    </tr>\n",
       "  </tbody>\n",
       "</table>\n",
       "</div>"
      ],
      "text/plain": [
       "       Suburb             Address  Rooms Type      Price Method SellerG  \\\n",
       "0  Abbotsford       68 Studley St      2    h        NaN     SS  Jellis   \n",
       "1  Abbotsford        85 Turner St      2    h  1480000.0      S  Biggin   \n",
       "2  Abbotsford     25 Bloomburg St      2    h  1035000.0      S  Biggin   \n",
       "3  Abbotsford  18/659 Victoria St      3    u        NaN     VB  Rounds   \n",
       "4  Abbotsford        5 Charles St      3    h  1465000.0     SP  Biggin   \n",
       "\n",
       "        Date  Distance  Postcode  Bedroom2  Bathroom  Car  Landsize  \\\n",
       "0  3/09/2016       2.5    3067.0       2.0       1.0  1.0     126.0   \n",
       "1  3/12/2016       2.5    3067.0       2.0       1.0  1.0     202.0   \n",
       "2  4/02/2016       2.5    3067.0       2.0       1.0  0.0     156.0   \n",
       "3  4/02/2016       2.5    3067.0       3.0       2.0  1.0       0.0   \n",
       "4  4/03/2017       2.5    3067.0       3.0       2.0  0.0     134.0   \n",
       "\n",
       "   BuildingArea  YearBuilt         CouncilArea  Lattitude  Longtitude  \\\n",
       "0           NaN        NaN  Yarra City Council   -37.8014    144.9958   \n",
       "1           NaN        NaN  Yarra City Council   -37.7996    144.9984   \n",
       "2          79.0     1900.0  Yarra City Council   -37.8079    144.9934   \n",
       "3           NaN        NaN  Yarra City Council   -37.8114    145.0116   \n",
       "4         150.0     1900.0  Yarra City Council   -37.8093    144.9944   \n",
       "\n",
       "              Regionname  Propertycount  \n",
       "0  Northern Metropolitan         4019.0  \n",
       "1  Northern Metropolitan         4019.0  \n",
       "2  Northern Metropolitan         4019.0  \n",
       "3  Northern Metropolitan         4019.0  \n",
       "4  Northern Metropolitan         4019.0  "
      ]
     },
     "execution_count": 5,
     "metadata": {},
     "output_type": "execute_result"
    }
   ],
   "source": [
    "# View first few records\n",
    "pd.set_option('display.max_columns', None)  \n",
    "data.head()"
   ]
  },
  {
   "cell_type": "code",
   "execution_count": 6,
   "metadata": {},
   "outputs": [
    {
     "name": "stdout",
     "output_type": "stream",
     "text": [
      "<class 'pandas.core.frame.DataFrame'>\n",
      "RangeIndex: 34857 entries, 0 to 34856\n",
      "Data columns (total 21 columns):\n",
      "Suburb           34857 non-null object\n",
      "Address          34857 non-null object\n",
      "Rooms            34857 non-null int64\n",
      "Type             34857 non-null object\n",
      "Price            27247 non-null float64\n",
      "Method           34857 non-null object\n",
      "SellerG          34857 non-null object\n",
      "Date             34857 non-null object\n",
      "Distance         34856 non-null float64\n",
      "Postcode         34856 non-null float64\n",
      "Bedroom2         26640 non-null float64\n",
      "Bathroom         26631 non-null float64\n",
      "Car              26129 non-null float64\n",
      "Landsize         23047 non-null float64\n",
      "BuildingArea     13742 non-null float64\n",
      "YearBuilt        15551 non-null float64\n",
      "CouncilArea      34854 non-null object\n",
      "Lattitude        26881 non-null float64\n",
      "Longtitude       26881 non-null float64\n",
      "Regionname       34854 non-null object\n",
      "Propertycount    34854 non-null float64\n",
      "dtypes: float64(12), int64(1), object(8)\n",
      "memory usage: 5.6+ MB\n"
     ]
    }
   ],
   "source": [
    "# Data types\n",
    "data.info()"
   ]
  },
  {
   "cell_type": "code",
   "execution_count": 7,
   "metadata": {},
   "outputs": [
    {
     "data": {
      "text/plain": [
       "Suburb               0\n",
       "Address              0\n",
       "Rooms                0\n",
       "Type                 0\n",
       "Price             7610\n",
       "Method               0\n",
       "SellerG              0\n",
       "Date                 0\n",
       "Distance             1\n",
       "Postcode             1\n",
       "Bedroom2          8217\n",
       "Bathroom          8226\n",
       "Car               8728\n",
       "Landsize         11810\n",
       "BuildingArea     21115\n",
       "YearBuilt        19306\n",
       "CouncilArea          3\n",
       "Lattitude         7976\n",
       "Longtitude        7976\n",
       "Regionname           3\n",
       "Propertycount        3\n",
       "dtype: int64"
      ]
     },
     "execution_count": 7,
     "metadata": {},
     "output_type": "execute_result"
    }
   ],
   "source": [
    "data.isnull().sum()"
   ]
  },
  {
   "cell_type": "code",
   "execution_count": 8,
   "metadata": {},
   "outputs": [
    {
     "data": {
      "text/plain": [
       "Suburb            0.000000\n",
       "Address           0.000000\n",
       "Rooms             0.000000\n",
       "Type              0.000000\n",
       "Price            21.832057\n",
       "Method            0.000000\n",
       "SellerG           0.000000\n",
       "Date              0.000000\n",
       "Distance          0.002869\n",
       "Postcode          0.002869\n",
       "Bedroom2         23.573457\n",
       "Bathroom         23.599277\n",
       "Car              25.039447\n",
       "Landsize         33.881286\n",
       "BuildingArea     60.576068\n",
       "YearBuilt        55.386293\n",
       "CouncilArea       0.008607\n",
       "Lattitude        22.882061\n",
       "Longtitude       22.882061\n",
       "Regionname        0.008607\n",
       "Propertycount     0.008607\n",
       "dtype: float64"
      ]
     },
     "execution_count": 8,
     "metadata": {},
     "output_type": "execute_result"
    }
   ],
   "source": [
    "# Percentage of missing values\n",
    "data.isnull().sum()/len(data)*100"
   ]
  },
  {
   "cell_type": "markdown",
   "metadata": {},
   "source": [
    "#### Remove missing data above 50%"
   ]
  },
  {
   "cell_type": "code",
   "execution_count": 9,
   "metadata": {},
   "outputs": [
    {
     "name": "stdout",
     "output_type": "stream",
     "text": [
      "<class 'pandas.core.frame.DataFrame'>\n",
      "Int64Index: 17679 entries, 1 to 34856\n",
      "Data columns (total 19 columns):\n",
      "Suburb           17679 non-null object\n",
      "Address          17679 non-null object\n",
      "Rooms            17679 non-null int64\n",
      "Type             17679 non-null object\n",
      "Price            17679 non-null float64\n",
      "Method           17679 non-null object\n",
      "SellerG          17679 non-null object\n",
      "Date             17679 non-null object\n",
      "Distance         17679 non-null float64\n",
      "Postcode         17679 non-null float64\n",
      "Bedroom2         17679 non-null float64\n",
      "Bathroom         17679 non-null float64\n",
      "Car              17679 non-null float64\n",
      "Landsize         17679 non-null float64\n",
      "CouncilArea      17679 non-null object\n",
      "Lattitude        17679 non-null float64\n",
      "Longtitude       17679 non-null float64\n",
      "Regionname       17679 non-null object\n",
      "Propertycount    17679 non-null float64\n",
      "dtypes: float64(10), int64(1), object(8)\n",
      "memory usage: 2.7+ MB\n"
     ]
    }
   ],
   "source": [
    "# To remove an entire column\n",
    "#data1 = data.drop('BuildingArea','YearBuilt')\n",
    "data1= data.drop(['BuildingArea','YearBuilt'], axis=1)\n",
    "# Remove rows missing data\n",
    "data1 = data1.dropna()\n",
    "\n",
    "# Confirm that observations missing data were removed  \n",
    "data1.info()"
   ]
  },
  {
   "cell_type": "code",
   "execution_count": 10,
   "metadata": {},
   "outputs": [
    {
     "data": {
      "text/plain": [
       "Suburb           0\n",
       "Address          0\n",
       "Rooms            0\n",
       "Type             0\n",
       "Price            0\n",
       "Method           0\n",
       "SellerG          0\n",
       "Date             0\n",
       "Distance         0\n",
       "Postcode         0\n",
       "Bedroom2         0\n",
       "Bathroom         0\n",
       "Car              0\n",
       "Landsize         0\n",
       "CouncilArea      0\n",
       "Lattitude        0\n",
       "Longtitude       0\n",
       "Regionname       0\n",
       "Propertycount    0\n",
       "dtype: int64"
      ]
     },
     "execution_count": 10,
     "metadata": {},
     "output_type": "execute_result"
    }
   ],
   "source": [
    "data1.isnull().sum()"
   ]
  },
  {
   "cell_type": "code",
   "execution_count": 11,
   "metadata": {},
   "outputs": [
    {
     "data": {
      "text/html": [
       "<div>\n",
       "<style scoped>\n",
       "    .dataframe tbody tr th:only-of-type {\n",
       "        vertical-align: middle;\n",
       "    }\n",
       "\n",
       "    .dataframe tbody tr th {\n",
       "        vertical-align: top;\n",
       "    }\n",
       "\n",
       "    .dataframe thead th {\n",
       "        text-align: right;\n",
       "    }\n",
       "</style>\n",
       "<table border=\"1\" class=\"dataframe\">\n",
       "  <thead>\n",
       "    <tr style=\"text-align: right;\">\n",
       "      <th></th>\n",
       "      <th>count</th>\n",
       "      <th>mean</th>\n",
       "      <th>std</th>\n",
       "      <th>min</th>\n",
       "      <th>25%</th>\n",
       "      <th>50%</th>\n",
       "      <th>75%</th>\n",
       "      <th>max</th>\n",
       "    </tr>\n",
       "  </thead>\n",
       "  <tbody>\n",
       "    <tr>\n",
       "      <td>Rooms</td>\n",
       "      <td>17679.0</td>\n",
       "      <td>3.053849e+00</td>\n",
       "      <td>0.944396</td>\n",
       "      <td>1.00000</td>\n",
       "      <td>2.00000</td>\n",
       "      <td>3.0000</td>\n",
       "      <td>4.000000e+00</td>\n",
       "      <td>1.200000e+01</td>\n",
       "    </tr>\n",
       "    <tr>\n",
       "      <td>Price</td>\n",
       "      <td>17679.0</td>\n",
       "      <td>1.094974e+06</td>\n",
       "      <td>655981.504660</td>\n",
       "      <td>85000.00000</td>\n",
       "      <td>660000.00000</td>\n",
       "      <td>912500.0000</td>\n",
       "      <td>1.345000e+06</td>\n",
       "      <td>1.120000e+07</td>\n",
       "    </tr>\n",
       "    <tr>\n",
       "      <td>Distance</td>\n",
       "      <td>17679.0</td>\n",
       "      <td>1.115311e+01</td>\n",
       "      <td>6.643855</td>\n",
       "      <td>0.00000</td>\n",
       "      <td>6.50000</td>\n",
       "      <td>10.4000</td>\n",
       "      <td>1.390000e+01</td>\n",
       "      <td>4.810000e+01</td>\n",
       "    </tr>\n",
       "    <tr>\n",
       "      <td>Postcode</td>\n",
       "      <td>17679.0</td>\n",
       "      <td>3.111932e+03</td>\n",
       "      <td>109.451667</td>\n",
       "      <td>3000.00000</td>\n",
       "      <td>3046.00000</td>\n",
       "      <td>3085.0000</td>\n",
       "      <td>3.150000e+03</td>\n",
       "      <td>3.977000e+03</td>\n",
       "    </tr>\n",
       "    <tr>\n",
       "      <td>Bedroom2</td>\n",
       "      <td>17679.0</td>\n",
       "      <td>3.036541e+00</td>\n",
       "      <td>0.956882</td>\n",
       "      <td>0.00000</td>\n",
       "      <td>2.00000</td>\n",
       "      <td>3.0000</td>\n",
       "      <td>4.000000e+00</td>\n",
       "      <td>2.000000e+01</td>\n",
       "    </tr>\n",
       "    <tr>\n",
       "      <td>Bathroom</td>\n",
       "      <td>17679.0</td>\n",
       "      <td>1.584422e+00</td>\n",
       "      <td>0.704733</td>\n",
       "      <td>0.00000</td>\n",
       "      <td>1.00000</td>\n",
       "      <td>1.0000</td>\n",
       "      <td>2.000000e+00</td>\n",
       "      <td>9.000000e+00</td>\n",
       "    </tr>\n",
       "    <tr>\n",
       "      <td>Car</td>\n",
       "      <td>17679.0</td>\n",
       "      <td>1.698739e+00</td>\n",
       "      <td>0.999023</td>\n",
       "      <td>0.00000</td>\n",
       "      <td>1.00000</td>\n",
       "      <td>2.0000</td>\n",
       "      <td>2.000000e+00</td>\n",
       "      <td>1.800000e+01</td>\n",
       "    </tr>\n",
       "    <tr>\n",
       "      <td>Landsize</td>\n",
       "      <td>17679.0</td>\n",
       "      <td>5.948663e+02</td>\n",
       "      <td>3786.375295</td>\n",
       "      <td>0.00000</td>\n",
       "      <td>222.50000</td>\n",
       "      <td>517.0000</td>\n",
       "      <td>6.640000e+02</td>\n",
       "      <td>4.330140e+05</td>\n",
       "    </tr>\n",
       "    <tr>\n",
       "      <td>Lattitude</td>\n",
       "      <td>17679.0</td>\n",
       "      <td>-3.780651e+01</td>\n",
       "      <td>0.089326</td>\n",
       "      <td>-38.19043</td>\n",
       "      <td>-37.85926</td>\n",
       "      <td>-37.7998</td>\n",
       "      <td>-3.774960e+01</td>\n",
       "      <td>-3.739946e+01</td>\n",
       "    </tr>\n",
       "    <tr>\n",
       "      <td>Longtitude</td>\n",
       "      <td>17679.0</td>\n",
       "      <td>1.449963e+02</td>\n",
       "      <td>0.116925</td>\n",
       "      <td>144.42379</td>\n",
       "      <td>144.92529</td>\n",
       "      <td>145.0027</td>\n",
       "      <td>1.450673e+02</td>\n",
       "      <td>1.455264e+02</td>\n",
       "    </tr>\n",
       "    <tr>\n",
       "      <td>Propertycount</td>\n",
       "      <td>17679.0</td>\n",
       "      <td>7.480045e+03</td>\n",
       "      <td>4398.062457</td>\n",
       "      <td>83.00000</td>\n",
       "      <td>4380.00000</td>\n",
       "      <td>6567.0000</td>\n",
       "      <td>1.033100e+04</td>\n",
       "      <td>2.165000e+04</td>\n",
       "    </tr>\n",
       "  </tbody>\n",
       "</table>\n",
       "</div>"
      ],
      "text/plain": [
       "                 count          mean            std          min  \\\n",
       "Rooms          17679.0  3.053849e+00       0.944396      1.00000   \n",
       "Price          17679.0  1.094974e+06  655981.504660  85000.00000   \n",
       "Distance       17679.0  1.115311e+01       6.643855      0.00000   \n",
       "Postcode       17679.0  3.111932e+03     109.451667   3000.00000   \n",
       "Bedroom2       17679.0  3.036541e+00       0.956882      0.00000   \n",
       "Bathroom       17679.0  1.584422e+00       0.704733      0.00000   \n",
       "Car            17679.0  1.698739e+00       0.999023      0.00000   \n",
       "Landsize       17679.0  5.948663e+02    3786.375295      0.00000   \n",
       "Lattitude      17679.0 -3.780651e+01       0.089326    -38.19043   \n",
       "Longtitude     17679.0  1.449963e+02       0.116925    144.42379   \n",
       "Propertycount  17679.0  7.480045e+03    4398.062457     83.00000   \n",
       "\n",
       "                        25%          50%           75%           max  \n",
       "Rooms               2.00000       3.0000  4.000000e+00  1.200000e+01  \n",
       "Price          660000.00000  912500.0000  1.345000e+06  1.120000e+07  \n",
       "Distance            6.50000      10.4000  1.390000e+01  4.810000e+01  \n",
       "Postcode         3046.00000    3085.0000  3.150000e+03  3.977000e+03  \n",
       "Bedroom2            2.00000       3.0000  4.000000e+00  2.000000e+01  \n",
       "Bathroom            1.00000       1.0000  2.000000e+00  9.000000e+00  \n",
       "Car                 1.00000       2.0000  2.000000e+00  1.800000e+01  \n",
       "Landsize          222.50000     517.0000  6.640000e+02  4.330140e+05  \n",
       "Lattitude         -37.85926     -37.7998 -3.774960e+01 -3.739946e+01  \n",
       "Longtitude        144.92529     145.0027  1.450673e+02  1.455264e+02  \n",
       "Propertycount    4380.00000    6567.0000  1.033100e+04  2.165000e+04  "
      ]
     },
     "execution_count": 11,
     "metadata": {},
     "output_type": "execute_result"
    }
   ],
   "source": [
    "data1.describe().transpose()"
   ]
  },
  {
   "cell_type": "code",
   "execution_count": 12,
   "metadata": {},
   "outputs": [
    {
     "name": "stdout",
     "output_type": "stream",
     "text": [
      "Index(['Suburb', 'Address', 'Type', 'Method', 'SellerG', 'Date', 'CouncilArea',\n",
      "       'Regionname'],\n",
      "      dtype='object')\n"
     ]
    }
   ],
   "source": [
    "# Identify object columns\n",
    "print(data1.select_dtypes(['object']).columns)"
   ]
  },
  {
   "cell_type": "code",
   "execution_count": 13,
   "metadata": {},
   "outputs": [],
   "source": [
    "# Convert to date object\n",
    "data1['Date'] = pd.to_datetime(data['Date'])"
   ]
  },
  {
   "cell_type": "markdown",
   "metadata": {},
   "source": [
    "#### Convert objects to categorical variables"
   ]
  },
  {
   "cell_type": "code",
   "execution_count": 14,
   "metadata": {},
   "outputs": [],
   "source": [
    "# Convert objects to categorical variables\n",
    "obj_cats = ['Suburb', 'Address', 'Type', 'Method', 'SellerG', 'CouncilArea','Regionname']\n",
    "\n",
    "for colname in obj_cats:\n",
    "    data1[colname] = data1[colname].astype('category')"
   ]
  },
  {
   "cell_type": "code",
   "execution_count": 15,
   "metadata": {},
   "outputs": [
    {
     "name": "stdout",
     "output_type": "stream",
     "text": [
      "<class 'pandas.core.frame.DataFrame'>\n",
      "Int64Index: 17679 entries, 1 to 34856\n",
      "Data columns (total 19 columns):\n",
      "Suburb           17679 non-null category\n",
      "Address          17679 non-null category\n",
      "Rooms            17679 non-null int64\n",
      "Type             17679 non-null category\n",
      "Price            17679 non-null float64\n",
      "Method           17679 non-null category\n",
      "SellerG          17679 non-null category\n",
      "Date             17679 non-null datetime64[ns]\n",
      "Distance         17679 non-null float64\n",
      "Postcode         17679 non-null category\n",
      "Bedroom2         17679 non-null float64\n",
      "Bathroom         17679 non-null float64\n",
      "Car              17679 non-null float64\n",
      "Landsize         17679 non-null float64\n",
      "CouncilArea      17679 non-null category\n",
      "Lattitude        17679 non-null float64\n",
      "Longtitude       17679 non-null float64\n",
      "Regionname       17679 non-null category\n",
      "Propertycount    17679 non-null float64\n",
      "dtypes: category(8), datetime64[ns](1), float64(9), int64(1)\n",
      "memory usage: 2.6 MB\n"
     ]
    }
   ],
   "source": [
    "# Convert numeric variables to categorical\n",
    "num_cats = ['Postcode']  \n",
    "\n",
    "for colname in num_cats:\n",
    "    data1[colname] = data1[colname].astype('category')   \n",
    "\n",
    "# Confirm changes\n",
    "\n",
    "data1.info()"
   ]
  },
  {
   "cell_type": "markdown",
   "metadata": {},
   "source": [
    "### Visualization"
   ]
  },
  {
   "cell_type": "code",
   "execution_count": 16,
   "metadata": {},
   "outputs": [
    {
     "data": {
      "text/plain": [
       "<matplotlib.axes._subplots.AxesSubplot at 0x1a6a66315c0>"
      ]
     },
     "execution_count": 16,
     "metadata": {},
     "output_type": "execute_result"
    },
    {
     "data": {
      "image/png": "[encoded data removed]",
      "text/plain": [
       "<Figure size 1080x360 with 1 Axes>"
      ]
     },
     "metadata": {
      "needs_background": "light"
     },
     "output_type": "display_data"
    }
   ],
   "source": [
    "# Count of Suburb\n",
    "data1['Suburb'].value_counts().head(30).plot.bar(figsize = (15,5),fontsize = 14,title = \"Count of Suburb\")\n",
    "#data['Suburb'].value_counts().sort_index().plot.bar(figsize = (10,5),fontsize = 14,title = \"Count of Suburb\")"
   ]
  },
  {
   "cell_type": "code",
   "execution_count": 17,
   "metadata": {},
   "outputs": [
    {
     "data": {
      "text/plain": [
       "<matplotlib.axes._subplots.AxesSubplot at 0x1a6a6b67b70>"
      ]
     },
     "execution_count": 17,
     "metadata": {},
     "output_type": "execute_result"
    },
    {
     "data": {
      "image/png": "[encoded data removed]",
      "text/plain": [
       "<Figure size 720x360 with 1 Axes>"
      ]
     },
     "metadata": {
      "needs_background": "light"
     },
     "output_type": "display_data"
    }
   ],
   "source": [
    "# Count of Region\n",
    "data1['Regionname'].value_counts().head(30).plot.bar(figsize = (10,5),fontsize = 14,title = \"Count of Region\")"
   ]
  },
  {
   "cell_type": "code",
   "execution_count": 18,
   "metadata": {},
   "outputs": [
    {
     "data": {
      "text/plain": [
       "<matplotlib.axes._subplots.AxesSubplot at 0x1a6a697fcf8>"
      ]
     },
     "execution_count": 18,
     "metadata": {},
     "output_type": "execute_result"
    },
    {
     "data": {
      "image/png": "[encoded data removed]",
      "text/plain": [
       "<Figure size 720x360 with 1 Axes>"
      ]
     },
     "metadata": {
      "needs_background": "light"
     },
     "output_type": "display_data"
    }
   ],
   "source": [
    "# Count of Rooms\n",
    "#data['Rooms'].value_counts().head(20).plot.bar()\n",
    "data1['Rooms'].value_counts().head(30).plot.bar(figsize = (10,5),fontsize = 14,title = \"Count of Rooms\")"
   ]
  },
  {
   "cell_type": "code",
   "execution_count": 19,
   "metadata": {},
   "outputs": [
    {
     "data": {
      "text/plain": [
       "<matplotlib.axes._subplots.AxesSubplot at 0x1a6a6d9e6d8>"
      ]
     },
     "execution_count": 19,
     "metadata": {},
     "output_type": "execute_result"
    },
    {
     "data": {
      "image/png": "[encoded data removed]",
      "text/plain": [
       "<Figure size 720x360 with 1 Axes>"
      ]
     },
     "metadata": {
      "needs_background": "light"
     },
     "output_type": "display_data"
    }
   ],
   "source": [
    "# Count of CouncilArea\n",
    "data1['CouncilArea'].value_counts().head(30).plot.bar(figsize = (10,5),fontsize = 14,title = \"Count of CouncilArea\")"
   ]
  },
  {
   "cell_type": "code",
   "execution_count": 20,
   "metadata": {},
   "outputs": [
    {
     "data": {
      "text/plain": [
       "<matplotlib.axes._subplots.AxesSubplot at 0x1a6a6e6d390>"
      ]
     },
     "execution_count": 20,
     "metadata": {},
     "output_type": "execute_result"
    },
    {
     "data": {
      "image/png": "[encoded data removed]",
      "text/plain": [
       "<Figure size 1440x720 with 1 Axes>"
      ]
     },
     "metadata": {
      "needs_background": "light"
     },
     "output_type": "display_data"
    }
   ],
   "source": [
    "#Plot Price\n",
    "data1['Price'].value_counts().sort_index().plot.line(figsize = (20,10),fontsize = 14,title = \"Count of Price\")\n",
    "#data['Price'].value_counts().sort_index().plot.line()"
   ]
  },
  {
   "cell_type": "code",
   "execution_count": 21,
   "metadata": {},
   "outputs": [
    {
     "data": {
      "image/png": "[encoded data removed]",
      "text/plain": [
       "<Figure size 1080x1080 with 12 Axes>"
      ]
     },
     "metadata": {
      "needs_background": "light"
     },
     "output_type": "display_data"
    }
   ],
   "source": [
    "data1.hist(figsize=(15,15))\n",
    "plt.show()"
   ]
  },
  {
   "cell_type": "markdown",
   "metadata": {},
   "source": [
    "#### Correlation metrix"
   ]
  },
  {
   "cell_type": "code",
   "execution_count": 22,
   "metadata": {},
   "outputs": [
    {
     "data": {
      "text/plain": [
       "Text(0.5, 1, 'Variable Correlation')"
      ]
     },
     "execution_count": 22,
     "metadata": {},
     "output_type": "execute_result"
    },
    {
     "data": {
      "image/png": "[encoded data removed]",
      "text/plain": [
       "<Figure size 720x432 with 2 Axes>"
      ]
     },
     "metadata": {
      "needs_background": "light"
     },
     "output_type": "display_data"
    }
   ],
   "source": [
    "plt.figure(figsize=(10,6))\n",
    "sns.heatmap(data1.corr(),cmap = 'coolwarm',linewidth = 1,annot= True, annot_kws={\"size\": 9})\n",
    "plt.title('Variable Correlation')"
   ]
  },
  {
   "cell_type": "markdown",
   "metadata": {},
   "source": [
    "Corelation score between \"Bedroom2\" and \"Rooms\" is 0.95. So I will remove Bedroom2"
   ]
  },
  {
   "cell_type": "markdown",
   "metadata": {},
   "source": [
    "## 3.Apply the model for prediction with holdout and cross validation<a name=\"question2\"></a>"
   ]
  },
  {
   "cell_type": "markdown",
   "metadata": {},
   "source": [
    "#### Normalize data"
   ]
  },
  {
   "cell_type": "code",
   "execution_count": 23,
   "metadata": {},
   "outputs": [],
   "source": [
    "from sklearn.preprocessing import MinMaxScaler"
   ]
  },
  {
   "cell_type": "code",
   "execution_count": 24,
   "metadata": {},
   "outputs": [],
   "source": [
    "# create scaler\n",
    "scaler = MinMaxScaler()"
   ]
  },
  {
   "cell_type": "code",
   "execution_count": 25,
   "metadata": {},
   "outputs": [
    {
     "name": "stderr",
     "output_type": "stream",
     "text": [
      "C:\\Users\\Admin\\Anaconda3\\lib\\site-packages\\sklearn\\utils\\validation.py:595: DataConversionWarning: Data with input dtype object was converted to float64 by MinMaxScaler.\n",
      "  warnings.warn(msg, DataConversionWarning)\n"
     ]
    },
    {
     "data": {
      "text/plain": [
       "array([[0.09090909, 0.12550607, 0.05197505, ..., 0.49411482, 0.52115985,\n",
       "        0.18250104],\n",
       "       [0.09090909, 0.08547009, 0.05197505, ..., 0.48362138, 0.51662495,\n",
       "        0.18250104],\n",
       "       [0.18181818, 0.12415655, 0.05197505, ..., 0.4818514 , 0.51753193,\n",
       "        0.18250104],\n",
       "       ...,\n",
       "       [0.09090909, 0.07224471, 0.13097713, ..., 0.47400028, 0.42126506,\n",
       "        0.29953169],\n",
       "       [0.09090909, 0.05578048, 0.13097713, ..., 0.46470789, 0.41246735,\n",
       "        0.29953169],\n",
       "       [0.09090909, 0.08412056, 0.13097713, ..., 0.47072582, 0.4260267 ,\n",
       "        0.29953169]])"
      ]
     },
     "execution_count": 25,
     "metadata": {},
     "output_type": "execute_result"
    }
   ],
   "source": [
    "features = ['Rooms', 'Price', 'Distance', 'Postcode', 'Bedroom2', 'Bathroom',\n",
    "            'Car', 'Landsize', 'Lattitude', 'Longtitude', 'Propertycount']\n",
    "x = data1.loc[:, features].values\n",
    "# fit and transform in one step\n",
    "datanom = scaler.fit_transform(x)\n",
    "datanom"
   ]
  },
  {
   "cell_type": "code",
   "execution_count": 26,
   "metadata": {},
   "outputs": [
    {
     "data": {
      "text/html": [
       "<div>\n",
       "<style scoped>\n",
       "    .dataframe tbody tr th:only-of-type {\n",
       "        vertical-align: middle;\n",
       "    }\n",
       "\n",
       "    .dataframe tbody tr th {\n",
       "        vertical-align: top;\n",
       "    }\n",
       "\n",
       "    .dataframe thead th {\n",
       "        text-align: right;\n",
       "    }\n",
       "</style>\n",
       "<table border=\"1\" class=\"dataframe\">\n",
       "  <thead>\n",
       "    <tr style=\"text-align: right;\">\n",
       "      <th></th>\n",
       "      <th>Rooms</th>\n",
       "      <th>Price</th>\n",
       "      <th>Distance</th>\n",
       "      <th>Postcode</th>\n",
       "      <th>Bedroom2</th>\n",
       "      <th>Bathroom</th>\n",
       "      <th>Car</th>\n",
       "      <th>Landsize</th>\n",
       "      <th>Lattitude</th>\n",
       "      <th>Longtitude</th>\n",
       "      <th>Propertycount</th>\n",
       "    </tr>\n",
       "  </thead>\n",
       "  <tbody>\n",
       "    <tr>\n",
       "      <td>0</td>\n",
       "      <td>0.090909</td>\n",
       "      <td>0.125506</td>\n",
       "      <td>0.051975</td>\n",
       "      <td>0.068577</td>\n",
       "      <td>0.10</td>\n",
       "      <td>0.111111</td>\n",
       "      <td>0.055556</td>\n",
       "      <td>0.000466</td>\n",
       "      <td>0.494115</td>\n",
       "      <td>0.521160</td>\n",
       "      <td>0.182501</td>\n",
       "    </tr>\n",
       "    <tr>\n",
       "      <td>1</td>\n",
       "      <td>0.090909</td>\n",
       "      <td>0.085470</td>\n",
       "      <td>0.051975</td>\n",
       "      <td>0.068577</td>\n",
       "      <td>0.10</td>\n",
       "      <td>0.111111</td>\n",
       "      <td>0.000000</td>\n",
       "      <td>0.000360</td>\n",
       "      <td>0.483621</td>\n",
       "      <td>0.516625</td>\n",
       "      <td>0.182501</td>\n",
       "    </tr>\n",
       "    <tr>\n",
       "      <td>2</td>\n",
       "      <td>0.181818</td>\n",
       "      <td>0.124157</td>\n",
       "      <td>0.051975</td>\n",
       "      <td>0.068577</td>\n",
       "      <td>0.15</td>\n",
       "      <td>0.222222</td>\n",
       "      <td>0.000000</td>\n",
       "      <td>0.000309</td>\n",
       "      <td>0.481851</td>\n",
       "      <td>0.517532</td>\n",
       "      <td>0.182501</td>\n",
       "    </tr>\n",
       "    <tr>\n",
       "      <td>3</td>\n",
       "      <td>0.181818</td>\n",
       "      <td>0.068826</td>\n",
       "      <td>0.051975</td>\n",
       "      <td>0.068577</td>\n",
       "      <td>0.15</td>\n",
       "      <td>0.222222</td>\n",
       "      <td>0.055556</td>\n",
       "      <td>0.000217</td>\n",
       "      <td>0.497528</td>\n",
       "      <td>0.519799</td>\n",
       "      <td>0.182501</td>\n",
       "    </tr>\n",
       "    <tr>\n",
       "      <td>4</td>\n",
       "      <td>0.272727</td>\n",
       "      <td>0.136302</td>\n",
       "      <td>0.051975</td>\n",
       "      <td>0.068577</td>\n",
       "      <td>0.15</td>\n",
       "      <td>0.111111</td>\n",
       "      <td>0.111111</td>\n",
       "      <td>0.000277</td>\n",
       "      <td>0.484506</td>\n",
       "      <td>0.517260</td>\n",
       "      <td>0.182501</td>\n",
       "    </tr>\n",
       "  </tbody>\n",
       "</table>\n",
       "</div>"
      ],
      "text/plain": [
       "      Rooms     Price  Distance  Postcode  Bedroom2  Bathroom       Car  \\\n",
       "0  0.090909  0.125506  0.051975  0.068577      0.10  0.111111  0.055556   \n",
       "1  0.090909  0.085470  0.051975  0.068577      0.10  0.111111  0.000000   \n",
       "2  0.181818  0.124157  0.051975  0.068577      0.15  0.222222  0.000000   \n",
       "3  0.181818  0.068826  0.051975  0.068577      0.15  0.222222  0.055556   \n",
       "4  0.272727  0.136302  0.051975  0.068577      0.15  0.111111  0.111111   \n",
       "\n",
       "   Landsize  Lattitude  Longtitude  Propertycount  \n",
       "0  0.000466   0.494115    0.521160       0.182501  \n",
       "1  0.000360   0.483621    0.516625       0.182501  \n",
       "2  0.000309   0.481851    0.517532       0.182501  \n",
       "3  0.000217   0.497528    0.519799       0.182501  \n",
       "4  0.000277   0.484506    0.517260       0.182501  "
      ]
     },
     "execution_count": 26,
     "metadata": {},
     "output_type": "execute_result"
    }
   ],
   "source": [
    "A=['Rooms', 'Price', 'Distance', 'Postcode', 'Bedroom2', 'Bathroom',\n",
    "   'Car', 'Landsize', 'Lattitude', 'Longtitude', 'Propertycount']\n",
    "B= [x for x in range(17679)]\n",
    "C=datanom\n",
    "\n",
    "datascaled_nom=pd.DataFrame(C, columns=A)\n",
    "datascaled_nom.index=B\n",
    "datascaled_nom.head()"
   ]
  },
  {
   "cell_type": "code",
   "execution_count": 27,
   "metadata": {},
   "outputs": [
    {
     "data": {
      "text/html": [
       "<div>\n",
       "<style scoped>\n",
       "    .dataframe tbody tr th:only-of-type {\n",
       "        vertical-align: middle;\n",
       "    }\n",
       "\n",
       "    .dataframe tbody tr th {\n",
       "        vertical-align: top;\n",
       "    }\n",
       "\n",
       "    .dataframe thead th {\n",
       "        text-align: right;\n",
       "    }\n",
       "</style>\n",
       "<table border=\"1\" class=\"dataframe\">\n",
       "  <thead>\n",
       "    <tr style=\"text-align: right;\">\n",
       "      <th></th>\n",
       "      <th>count</th>\n",
       "      <th>mean</th>\n",
       "      <th>std</th>\n",
       "      <th>min</th>\n",
       "      <th>25%</th>\n",
       "      <th>50%</th>\n",
       "      <th>75%</th>\n",
       "      <th>max</th>\n",
       "    </tr>\n",
       "  </thead>\n",
       "  <tbody>\n",
       "    <tr>\n",
       "      <td>Rooms</td>\n",
       "      <td>17679.0</td>\n",
       "      <td>0.186714</td>\n",
       "      <td>0.085854</td>\n",
       "      <td>0.0</td>\n",
       "      <td>0.090909</td>\n",
       "      <td>0.181818</td>\n",
       "      <td>0.272727</td>\n",
       "      <td>1.0</td>\n",
       "    </tr>\n",
       "    <tr>\n",
       "      <td>Price</td>\n",
       "      <td>17679.0</td>\n",
       "      <td>0.090866</td>\n",
       "      <td>0.059018</td>\n",
       "      <td>0.0</td>\n",
       "      <td>0.051732</td>\n",
       "      <td>0.074449</td>\n",
       "      <td>0.113360</td>\n",
       "      <td>1.0</td>\n",
       "    </tr>\n",
       "    <tr>\n",
       "      <td>Distance</td>\n",
       "      <td>17679.0</td>\n",
       "      <td>0.231873</td>\n",
       "      <td>0.138126</td>\n",
       "      <td>0.0</td>\n",
       "      <td>0.135135</td>\n",
       "      <td>0.216216</td>\n",
       "      <td>0.288981</td>\n",
       "      <td>1.0</td>\n",
       "    </tr>\n",
       "    <tr>\n",
       "      <td>Postcode</td>\n",
       "      <td>17679.0</td>\n",
       "      <td>0.114567</td>\n",
       "      <td>0.112028</td>\n",
       "      <td>0.0</td>\n",
       "      <td>0.047083</td>\n",
       "      <td>0.087001</td>\n",
       "      <td>0.153531</td>\n",
       "      <td>1.0</td>\n",
       "    </tr>\n",
       "    <tr>\n",
       "      <td>Bedroom2</td>\n",
       "      <td>17679.0</td>\n",
       "      <td>0.151827</td>\n",
       "      <td>0.047844</td>\n",
       "      <td>0.0</td>\n",
       "      <td>0.100000</td>\n",
       "      <td>0.150000</td>\n",
       "      <td>0.200000</td>\n",
       "      <td>1.0</td>\n",
       "    </tr>\n",
       "    <tr>\n",
       "      <td>Bathroom</td>\n",
       "      <td>17679.0</td>\n",
       "      <td>0.176047</td>\n",
       "      <td>0.078304</td>\n",
       "      <td>0.0</td>\n",
       "      <td>0.111111</td>\n",
       "      <td>0.111111</td>\n",
       "      <td>0.222222</td>\n",
       "      <td>1.0</td>\n",
       "    </tr>\n",
       "    <tr>\n",
       "      <td>Car</td>\n",
       "      <td>17679.0</td>\n",
       "      <td>0.094374</td>\n",
       "      <td>0.055501</td>\n",
       "      <td>0.0</td>\n",
       "      <td>0.055556</td>\n",
       "      <td>0.111111</td>\n",
       "      <td>0.111111</td>\n",
       "      <td>1.0</td>\n",
       "    </tr>\n",
       "    <tr>\n",
       "      <td>Landsize</td>\n",
       "      <td>17679.0</td>\n",
       "      <td>0.001374</td>\n",
       "      <td>0.008744</td>\n",
       "      <td>0.0</td>\n",
       "      <td>0.000514</td>\n",
       "      <td>0.001194</td>\n",
       "      <td>0.001533</td>\n",
       "      <td>1.0</td>\n",
       "    </tr>\n",
       "    <tr>\n",
       "      <td>Lattitude</td>\n",
       "      <td>17679.0</td>\n",
       "      <td>0.485385</td>\n",
       "      <td>0.112933</td>\n",
       "      <td>0.0</td>\n",
       "      <td>0.418688</td>\n",
       "      <td>0.493862</td>\n",
       "      <td>0.557328</td>\n",
       "      <td>1.0</td>\n",
       "    </tr>\n",
       "    <tr>\n",
       "      <td>Longtitude</td>\n",
       "      <td>17679.0</td>\n",
       "      <td>0.519281</td>\n",
       "      <td>0.106049</td>\n",
       "      <td>0.0</td>\n",
       "      <td>0.454851</td>\n",
       "      <td>0.525060</td>\n",
       "      <td>0.583651</td>\n",
       "      <td>1.0</td>\n",
       "    </tr>\n",
       "    <tr>\n",
       "      <td>Propertycount</td>\n",
       "      <td>17679.0</td>\n",
       "      <td>0.342980</td>\n",
       "      <td>0.203926</td>\n",
       "      <td>0.0</td>\n",
       "      <td>0.199240</td>\n",
       "      <td>0.300645</td>\n",
       "      <td>0.475170</td>\n",
       "      <td>1.0</td>\n",
       "    </tr>\n",
       "  </tbody>\n",
       "</table>\n",
       "</div>"
      ],
      "text/plain": [
       "                 count      mean       std  min       25%       50%       75%  \\\n",
       "Rooms          17679.0  0.186714  0.085854  0.0  0.090909  0.181818  0.272727   \n",
       "Price          17679.0  0.090866  0.059018  0.0  0.051732  0.074449  0.113360   \n",
       "Distance       17679.0  0.231873  0.138126  0.0  0.135135  0.216216  0.288981   \n",
       "Postcode       17679.0  0.114567  0.112028  0.0  0.047083  0.087001  0.153531   \n",
       "Bedroom2       17679.0  0.151827  0.047844  0.0  0.100000  0.150000  0.200000   \n",
       "Bathroom       17679.0  0.176047  0.078304  0.0  0.111111  0.111111  0.222222   \n",
       "Car            17679.0  0.094374  0.055501  0.0  0.055556  0.111111  0.111111   \n",
       "Landsize       17679.0  0.001374  0.008744  0.0  0.000514  0.001194  0.001533   \n",
       "Lattitude      17679.0  0.485385  0.112933  0.0  0.418688  0.493862  0.557328   \n",
       "Longtitude     17679.0  0.519281  0.106049  0.0  0.454851  0.525060  0.583651   \n",
       "Propertycount  17679.0  0.342980  0.203926  0.0  0.199240  0.300645  0.475170   \n",
       "\n",
       "               max  \n",
       "Rooms          1.0  \n",
       "Price          1.0  \n",
       "Distance       1.0  \n",
       "Postcode       1.0  \n",
       "Bedroom2       1.0  \n",
       "Bathroom       1.0  \n",
       "Car            1.0  \n",
       "Landsize       1.0  \n",
       "Lattitude      1.0  \n",
       "Longtitude     1.0  \n",
       "Propertycount  1.0  "
      ]
     },
     "execution_count": 27,
     "metadata": {},
     "output_type": "execute_result"
    }
   ],
   "source": [
    "datascaled_nom.describe().transpose()"
   ]
  },
  {
   "cell_type": "markdown",
   "metadata": {},
   "source": [
    "#### Build linear regression model"
   ]
  },
  {
   "cell_type": "code",
   "execution_count": 28,
   "metadata": {},
   "outputs": [
    {
     "data": {
      "text/plain": [
       "Index(['Rooms', 'Price', 'Distance', 'Bedroom2', 'Bathroom', 'Car', 'Landsize',\n",
       "       'Lattitude', 'Longtitude', 'Propertycount'],\n",
       "      dtype='object')"
      ]
     },
     "execution_count": 28,
     "metadata": {},
     "output_type": "execute_result"
    }
   ],
   "source": [
    "# Identify numeric features\n",
    "data1.select_dtypes(['float64','int64']).columns"
   ]
  },
  {
   "cell_type": "code",
   "execution_count": 29,
   "metadata": {},
   "outputs": [],
   "source": [
    "# Split\n",
    "# Create features variable \n",
    "X =datascaled_nom[['Rooms', 'Distance', 'Bathroom', 'Car', 'Landsize','Lattitude', 'Longtitude', 'Propertycount',]]\n",
    "\n",
    "# Create target variable\n",
    "y = datascaled_nom['Price']\n",
    "\n",
    "# Train, test, split\n",
    "from sklearn.model_selection import train_test_split\n",
    "X_train, X_test, y_train, y_test = train_test_split(X,y, test_size = .20, random_state= 0)"
   ]
  },
  {
   "cell_type": "raw",
   "metadata": {},
   "source": [
    "# Split\n",
    "# Create features variable \n",
    "X =data1[['Rooms', 'Distance', 'Bathroom', 'Car', 'Landsize','Lattitude', 'Longtitude', 'Propertycount',]]\n",
    "\n",
    "# Create target variable\n",
    "y = data1['Price']\n",
    "\n",
    "# Train, test, split\n",
    "from sklearn.model_selection import train_test_split\n",
    "X_train, X_test, y_train, y_test = train_test_split(X,y, test_size = .20, random_state= 0)"
   ]
  },
  {
   "cell_type": "code",
   "execution_count": 30,
   "metadata": {},
   "outputs": [
    {
     "data": {
      "text/plain": [
       "LinearRegression(copy_X=True, fit_intercept=True, n_jobs=None,\n",
       "         normalize=False)"
      ]
     },
     "execution_count": 30,
     "metadata": {},
     "output_type": "execute_result"
    }
   ],
   "source": [
    "# Fit\n",
    "# Import model\n",
    "from sklearn.linear_model import LinearRegression\n",
    "\n",
    "# Create linear regression object\n",
    "regressor = LinearRegression()\n",
    "\n",
    "# Train the model using the training sets\n",
    "regressor.fit(X_train,y_train)"
   ]
  },
  {
   "cell_type": "code",
   "execution_count": 31,
   "metadata": {},
   "outputs": [],
   "source": [
    "# Make predictions using the testing set\n",
    "y_pred = regressor.predict(X_test)"
   ]
  },
  {
   "cell_type": "code",
   "execution_count": 32,
   "metadata": {},
   "outputs": [
    {
     "name": "stdout",
     "output_type": "stream",
     "text": [
      "Coefficients: \n",
      " [ 0.28418812 -0.1879727   0.1473091   0.08372026  0.64082037 -0.1067403\n",
      "  0.08635686 -0.00383745]\n",
      "MAE: 0.02932900153721696\n",
      "MSE: 0.0019071741501246148\n",
      "RMSE: 0.04367120504548294\n",
      "Variance score: 0.44\n"
     ]
    }
   ],
   "source": [
    "# Score It\n",
    "from sklearn import metrics\n",
    "print('Coefficients: \\n', regressor.coef_)\n",
    "print('MAE:',metrics.mean_absolute_error(y_test,y_pred))\n",
    "print('MSE:',metrics.mean_squared_error(y_test,y_pred))\n",
    "print('RMSE:',np.sqrt(metrics.mean_squared_error(y_test,y_pred)))\n",
    "# Explained variance score: 1 is perfect prediction\n",
    "print('Variance score: %.2f' % metrics.r2_score(y_test, y_pred))"
   ]
  },
  {
   "cell_type": "markdown",
   "metadata": {},
   "source": [
    "## 4. Using PCA, apply the model with holdout and cross validation<a name=\"question3\"></a>"
   ]
  },
  {
   "cell_type": "code",
   "execution_count": 33,
   "metadata": {},
   "outputs": [
    {
     "data": {
      "text/html": [
       "<div>\n",
       "<style scoped>\n",
       "    .dataframe tbody tr th:only-of-type {\n",
       "        vertical-align: middle;\n",
       "    }\n",
       "\n",
       "    .dataframe tbody tr th {\n",
       "        vertical-align: top;\n",
       "    }\n",
       "\n",
       "    .dataframe thead th {\n",
       "        text-align: right;\n",
       "    }\n",
       "</style>\n",
       "<table border=\"1\" class=\"dataframe\">\n",
       "  <thead>\n",
       "    <tr style=\"text-align: right;\">\n",
       "      <th></th>\n",
       "      <th>Rooms</th>\n",
       "      <th>Distance</th>\n",
       "      <th>Bathroom</th>\n",
       "      <th>Car</th>\n",
       "      <th>Landsize</th>\n",
       "      <th>Lattitude</th>\n",
       "      <th>Longtitude</th>\n",
       "      <th>Propertycount</th>\n",
       "    </tr>\n",
       "  </thead>\n",
       "  <tbody>\n",
       "    <tr>\n",
       "      <td>0</td>\n",
       "      <td>0.090909</td>\n",
       "      <td>0.051975</td>\n",
       "      <td>0.111111</td>\n",
       "      <td>0.055556</td>\n",
       "      <td>0.000466</td>\n",
       "      <td>0.494115</td>\n",
       "      <td>0.521160</td>\n",
       "      <td>0.182501</td>\n",
       "    </tr>\n",
       "    <tr>\n",
       "      <td>1</td>\n",
       "      <td>0.090909</td>\n",
       "      <td>0.051975</td>\n",
       "      <td>0.111111</td>\n",
       "      <td>0.000000</td>\n",
       "      <td>0.000360</td>\n",
       "      <td>0.483621</td>\n",
       "      <td>0.516625</td>\n",
       "      <td>0.182501</td>\n",
       "    </tr>\n",
       "    <tr>\n",
       "      <td>2</td>\n",
       "      <td>0.181818</td>\n",
       "      <td>0.051975</td>\n",
       "      <td>0.222222</td>\n",
       "      <td>0.000000</td>\n",
       "      <td>0.000309</td>\n",
       "      <td>0.481851</td>\n",
       "      <td>0.517532</td>\n",
       "      <td>0.182501</td>\n",
       "    </tr>\n",
       "    <tr>\n",
       "      <td>3</td>\n",
       "      <td>0.181818</td>\n",
       "      <td>0.051975</td>\n",
       "      <td>0.222222</td>\n",
       "      <td>0.055556</td>\n",
       "      <td>0.000217</td>\n",
       "      <td>0.497528</td>\n",
       "      <td>0.519799</td>\n",
       "      <td>0.182501</td>\n",
       "    </tr>\n",
       "    <tr>\n",
       "      <td>4</td>\n",
       "      <td>0.272727</td>\n",
       "      <td>0.051975</td>\n",
       "      <td>0.111111</td>\n",
       "      <td>0.111111</td>\n",
       "      <td>0.000277</td>\n",
       "      <td>0.484506</td>\n",
       "      <td>0.517260</td>\n",
       "      <td>0.182501</td>\n",
       "    </tr>\n",
       "    <tr>\n",
       "      <td>...</td>\n",
       "      <td>...</td>\n",
       "      <td>...</td>\n",
       "      <td>...</td>\n",
       "      <td>...</td>\n",
       "      <td>...</td>\n",
       "      <td>...</td>\n",
       "      <td>...</td>\n",
       "      <td>...</td>\n",
       "    </tr>\n",
       "    <tr>\n",
       "      <td>17674</td>\n",
       "      <td>0.181818</td>\n",
       "      <td>0.530146</td>\n",
       "      <td>0.222222</td>\n",
       "      <td>0.111111</td>\n",
       "      <td>0.000933</td>\n",
       "      <td>0.733429</td>\n",
       "      <td>0.553385</td>\n",
       "      <td>0.132471</td>\n",
       "    </tr>\n",
       "    <tr>\n",
       "      <td>17675</td>\n",
       "      <td>0.272727</td>\n",
       "      <td>0.130977</td>\n",
       "      <td>0.111111</td>\n",
       "      <td>0.166667</td>\n",
       "      <td>0.001369</td>\n",
       "      <td>0.480296</td>\n",
       "      <td>0.418009</td>\n",
       "      <td>0.299532</td>\n",
       "    </tr>\n",
       "    <tr>\n",
       "      <td>17676</td>\n",
       "      <td>0.090909</td>\n",
       "      <td>0.130977</td>\n",
       "      <td>0.222222</td>\n",
       "      <td>0.055556</td>\n",
       "      <td>0.000226</td>\n",
       "      <td>0.474000</td>\n",
       "      <td>0.421265</td>\n",
       "      <td>0.299532</td>\n",
       "    </tr>\n",
       "    <tr>\n",
       "      <td>17677</td>\n",
       "      <td>0.090909</td>\n",
       "      <td>0.130977</td>\n",
       "      <td>0.111111</td>\n",
       "      <td>0.111111</td>\n",
       "      <td>0.000508</td>\n",
       "      <td>0.464708</td>\n",
       "      <td>0.412467</td>\n",
       "      <td>0.299532</td>\n",
       "    </tr>\n",
       "    <tr>\n",
       "      <td>17678</td>\n",
       "      <td>0.090909</td>\n",
       "      <td>0.130977</td>\n",
       "      <td>0.111111</td>\n",
       "      <td>0.000000</td>\n",
       "      <td>0.000577</td>\n",
       "      <td>0.470726</td>\n",
       "      <td>0.426027</td>\n",
       "      <td>0.299532</td>\n",
       "    </tr>\n",
       "  </tbody>\n",
       "</table>\n",
       "<p>17679 rows × 8 columns</p>\n",
       "</div>"
      ],
      "text/plain": [
       "          Rooms  Distance  Bathroom       Car  Landsize  Lattitude  \\\n",
       "0      0.090909  0.051975  0.111111  0.055556  0.000466   0.494115   \n",
       "1      0.090909  0.051975  0.111111  0.000000  0.000360   0.483621   \n",
       "2      0.181818  0.051975  0.222222  0.000000  0.000309   0.481851   \n",
       "3      0.181818  0.051975  0.222222  0.055556  0.000217   0.497528   \n",
       "4      0.272727  0.051975  0.111111  0.111111  0.000277   0.484506   \n",
       "...         ...       ...       ...       ...       ...        ...   \n",
       "17674  0.181818  0.530146  0.222222  0.111111  0.000933   0.733429   \n",
       "17675  0.272727  0.130977  0.111111  0.166667  0.001369   0.480296   \n",
       "17676  0.090909  0.130977  0.222222  0.055556  0.000226   0.474000   \n",
       "17677  0.090909  0.130977  0.111111  0.111111  0.000508   0.464708   \n",
       "17678  0.090909  0.130977  0.111111  0.000000  0.000577   0.470726   \n",
       "\n",
       "       Longtitude  Propertycount  \n",
       "0        0.521160       0.182501  \n",
       "1        0.516625       0.182501  \n",
       "2        0.517532       0.182501  \n",
       "3        0.519799       0.182501  \n",
       "4        0.517260       0.182501  \n",
       "...           ...            ...  \n",
       "17674    0.553385       0.132471  \n",
       "17675    0.418009       0.299532  \n",
       "17676    0.421265       0.299532  \n",
       "17677    0.412467       0.299532  \n",
       "17678    0.426027       0.299532  \n",
       "\n",
       "[17679 rows x 8 columns]"
      ]
     },
     "execution_count": 33,
     "metadata": {},
     "output_type": "execute_result"
    }
   ],
   "source": [
    "dataNoPrice = datascaled_nom.drop([\"Price\",\"Postcode\", \"Bedroom2\"], axis=1)\n",
    "dataNoPrice"
   ]
  },
  {
   "cell_type": "code",
   "execution_count": 34,
   "metadata": {},
   "outputs": [
    {
     "data": {
      "text/html": [
       "<div>\n",
       "<style scoped>\n",
       "    .dataframe tbody tr th:only-of-type {\n",
       "        vertical-align: middle;\n",
       "    }\n",
       "\n",
       "    .dataframe tbody tr th {\n",
       "        vertical-align: top;\n",
       "    }\n",
       "\n",
       "    .dataframe thead th {\n",
       "        text-align: right;\n",
       "    }\n",
       "</style>\n",
       "<table border=\"1\" class=\"dataframe\">\n",
       "  <thead>\n",
       "    <tr style=\"text-align: right;\">\n",
       "      <th></th>\n",
       "      <th>principal component 1</th>\n",
       "      <th>principal component 2</th>\n",
       "      <th>principal component 3</th>\n",
       "    </tr>\n",
       "  </thead>\n",
       "  <tbody>\n",
       "    <tr>\n",
       "      <td>0</td>\n",
       "      <td>-0.151376</td>\n",
       "      <td>-0.197086</td>\n",
       "      <td>-0.087304</td>\n",
       "    </tr>\n",
       "    <tr>\n",
       "      <td>1</td>\n",
       "      <td>-0.151195</td>\n",
       "      <td>-0.202820</td>\n",
       "      <td>-0.097769</td>\n",
       "    </tr>\n",
       "    <tr>\n",
       "      <td>2</td>\n",
       "      <td>-0.157538</td>\n",
       "      <td>-0.158340</td>\n",
       "      <td>-0.075807</td>\n",
       "    </tr>\n",
       "    <tr>\n",
       "      <td>3</td>\n",
       "      <td>-0.157659</td>\n",
       "      <td>-0.154782</td>\n",
       "      <td>-0.060301</td>\n",
       "    </tr>\n",
       "    <tr>\n",
       "      <td>4</td>\n",
       "      <td>-0.159087</td>\n",
       "      <td>-0.140777</td>\n",
       "      <td>-0.054844</td>\n",
       "    </tr>\n",
       "    <tr>\n",
       "      <td>...</td>\n",
       "      <td>...</td>\n",
       "      <td>...</td>\n",
       "      <td>...</td>\n",
       "    </tr>\n",
       "    <tr>\n",
       "      <td>17674</td>\n",
       "      <td>-0.210670</td>\n",
       "      <td>0.196472</td>\n",
       "      <td>0.281257</td>\n",
       "    </tr>\n",
       "    <tr>\n",
       "      <td>17675</td>\n",
       "      <td>-0.045978</td>\n",
       "      <td>-0.098794</td>\n",
       "      <td>0.026922</td>\n",
       "    </tr>\n",
       "    <tr>\n",
       "      <td>17676</td>\n",
       "      <td>-0.040958</td>\n",
       "      <td>-0.138443</td>\n",
       "      <td>-0.014739</td>\n",
       "    </tr>\n",
       "    <tr>\n",
       "      <td>17677</td>\n",
       "      <td>-0.038944</td>\n",
       "      <td>-0.151728</td>\n",
       "      <td>-0.019787</td>\n",
       "    </tr>\n",
       "    <tr>\n",
       "      <td>17678</td>\n",
       "      <td>-0.037621</td>\n",
       "      <td>-0.162418</td>\n",
       "      <td>-0.031724</td>\n",
       "    </tr>\n",
       "  </tbody>\n",
       "</table>\n",
       "<p>17679 rows × 3 columns</p>\n",
       "</div>"
      ],
      "text/plain": [
       "       principal component 1  principal component 2  principal component 3\n",
       "0                  -0.151376              -0.197086              -0.087304\n",
       "1                  -0.151195              -0.202820              -0.097769\n",
       "2                  -0.157538              -0.158340              -0.075807\n",
       "3                  -0.157659              -0.154782              -0.060301\n",
       "4                  -0.159087              -0.140777              -0.054844\n",
       "...                      ...                    ...                    ...\n",
       "17674              -0.210670               0.196472               0.281257\n",
       "17675              -0.045978              -0.098794               0.026922\n",
       "17676              -0.040958              -0.138443              -0.014739\n",
       "17677              -0.038944              -0.151728              -0.019787\n",
       "17678              -0.037621              -0.162418              -0.031724\n",
       "\n",
       "[17679 rows x 3 columns]"
      ]
     },
     "execution_count": 34,
     "metadata": {},
     "output_type": "execute_result"
    }
   ],
   "source": [
    "from sklearn.decomposition import PCA\n",
    "pca=PCA(n_components=3)\n",
    "principalComponents=pca.fit_transform(dataNoPrice)\n",
    "#principalDf=pd.DataFrame(data=principalComponents, columns=['principal component 1', \n",
    "#'principal component 2','principal component 3','principal component 4','principal component 5',\n",
    "#'principal component 6','principal component 7'])\n",
    "principalDf=pd.DataFrame(data=principalComponents, columns=['principal component 1',\n",
    "                                                            'principal component 2','principal component 3'])\n",
    "principalDf"
   ]
  },
  {
   "cell_type": "code",
   "execution_count": 35,
   "metadata": {},
   "outputs": [
    {
     "data": {
      "text/plain": [
       "array([[0.19977606, 0.04643587, 0.15922981],\n",
       "       [0.19995263, 0.04161694, 0.14994423],\n",
       "       [0.19375807, 0.07899927, 0.16943187],\n",
       "       ...,\n",
       "       [0.3076169 , 0.09572147, 0.22362001],\n",
       "       [0.3095838 , 0.08455669, 0.21914115],\n",
       "       [0.31087609, 0.07557189, 0.20854901]])"
      ]
     },
     "execution_count": 35,
     "metadata": {},
     "output_type": "execute_result"
    }
   ],
   "source": [
    "# create scaler\n",
    "scaler_PCA = MinMaxScaler()\n",
    "features_PCA = ['principal component 1', 'principal component 2','principal component 3']\n",
    "x_PCA = principalDf.loc[:, features_PCA].values\n",
    "# fit and transform in one step\n",
    "datanom_PCA = scaler_PCA.fit_transform(x_PCA)\n",
    "datanom_PCA"
   ]
  },
  {
   "cell_type": "code",
   "execution_count": 36,
   "metadata": {},
   "outputs": [
    {
     "data": {
      "text/html": [
       "<div>\n",
       "<style scoped>\n",
       "    .dataframe tbody tr th:only-of-type {\n",
       "        vertical-align: middle;\n",
       "    }\n",
       "\n",
       "    .dataframe tbody tr th {\n",
       "        vertical-align: top;\n",
       "    }\n",
       "\n",
       "    .dataframe thead th {\n",
       "        text-align: right;\n",
       "    }\n",
       "</style>\n",
       "<table border=\"1\" class=\"dataframe\">\n",
       "  <thead>\n",
       "    <tr style=\"text-align: right;\">\n",
       "      <th></th>\n",
       "      <th>principal component 1</th>\n",
       "      <th>principal component 2</th>\n",
       "      <th>principal component 3</th>\n",
       "    </tr>\n",
       "  </thead>\n",
       "  <tbody>\n",
       "    <tr>\n",
       "      <td>0</td>\n",
       "      <td>0.199776</td>\n",
       "      <td>0.046436</td>\n",
       "      <td>0.159230</td>\n",
       "    </tr>\n",
       "    <tr>\n",
       "      <td>1</td>\n",
       "      <td>0.199953</td>\n",
       "      <td>0.041617</td>\n",
       "      <td>0.149944</td>\n",
       "    </tr>\n",
       "    <tr>\n",
       "      <td>2</td>\n",
       "      <td>0.193758</td>\n",
       "      <td>0.078999</td>\n",
       "      <td>0.169432</td>\n",
       "    </tr>\n",
       "    <tr>\n",
       "      <td>3</td>\n",
       "      <td>0.193640</td>\n",
       "      <td>0.081990</td>\n",
       "      <td>0.183191</td>\n",
       "    </tr>\n",
       "    <tr>\n",
       "      <td>4</td>\n",
       "      <td>0.192245</td>\n",
       "      <td>0.093760</td>\n",
       "      <td>0.188033</td>\n",
       "    </tr>\n",
       "  </tbody>\n",
       "</table>\n",
       "</div>"
      ],
      "text/plain": [
       "   principal component 1  principal component 2  principal component 3\n",
       "0               0.199776               0.046436               0.159230\n",
       "1               0.199953               0.041617               0.149944\n",
       "2               0.193758               0.078999               0.169432\n",
       "3               0.193640               0.081990               0.183191\n",
       "4               0.192245               0.093760               0.188033"
      ]
     },
     "execution_count": 36,
     "metadata": {},
     "output_type": "execute_result"
    }
   ],
   "source": [
    "A_PCA=['principal component 1','principal component 2','principal component 3']\n",
    "B_PCA= [t for t in range(17679)]\n",
    "C_PCA= datanom_PCA\n",
    "\n",
    "datascaled_nom_PCA = pd.DataFrame(C_PCA, columns=A_PCA)\n",
    "datascaled_nom_PCA.index=B_PCA\n",
    "datascaled_nom_PCA.head()"
   ]
  },
  {
   "cell_type": "code",
   "execution_count": 37,
   "metadata": {},
   "outputs": [
    {
     "data": {
      "text/plain": [
       "array([0.41136454, 0.2209203 , 0.14697362])"
      ]
     },
     "execution_count": 37,
     "metadata": {},
     "output_type": "execute_result"
    }
   ],
   "source": [
    "element_ratio = pca.explained_variance_ratio_\n",
    "element_ratio"
   ]
  },
  {
   "cell_type": "code",
   "execution_count": 38,
   "metadata": {},
   "outputs": [
    {
     "data": {
      "text/plain": [
       "0.7792584684168443"
      ]
     },
     "execution_count": 38,
     "metadata": {},
     "output_type": "execute_result"
    }
   ],
   "source": [
    "sum(element_ratio)"
   ]
  },
  {
   "cell_type": "code",
   "execution_count": 39,
   "metadata": {},
   "outputs": [],
   "source": [
    "# Split\n",
    "# Create features variable \n",
    "#X_PCA =principalDf[['principal component 1', \n",
    "#'principal component 2','principal component 3','principal component 4']]\n",
    "\n",
    "X_PCA =datascaled_nom_PCA[['principal component 1', \n",
    "'principal component 2','principal component 3']]\n",
    "\n",
    "# Create target variable\n",
    "y_PCA = datascaled_nom['Price']\n",
    "\n",
    "# Train, test, split\n",
    "from sklearn.model_selection import train_test_split\n",
    "X_train_PCA, X_test_PCA, y_train_PCA, y_test_PCA = train_test_split(X_PCA,y_PCA, test_size = .20, random_state= 0)"
   ]
  },
  {
   "cell_type": "code",
   "execution_count": 40,
   "metadata": {},
   "outputs": [
    {
     "data": {
      "text/plain": [
       "LinearRegression(copy_X=True, fit_intercept=True, n_jobs=None,\n",
       "         normalize=False)"
      ]
     },
     "execution_count": 40,
     "metadata": {},
     "output_type": "execute_result"
    }
   ],
   "source": [
    "# Fit\n",
    "# Import model\n",
    "from sklearn.linear_model import LinearRegression\n",
    "\n",
    "# Create linear regression object\n",
    "regressor_PCA = LinearRegression()\n",
    "\n",
    "# Fit model to training data\n",
    "regressor_PCA.fit(X_train_PCA,y_train_PCA)"
   ]
  },
  {
   "cell_type": "code",
   "execution_count": 41,
   "metadata": {},
   "outputs": [],
   "source": [
    "# Predicting test set results\n",
    "y_pred_PCA = regressor_PCA.predict(X_test_PCA)"
   ]
  },
  {
   "cell_type": "code",
   "execution_count": 42,
   "metadata": {},
   "outputs": [
    {
     "name": "stdout",
     "output_type": "stream",
     "text": [
      "Coefficients: \n",
      " [-0.01806555  0.01901684 -0.13778584]\n",
      "MAE: 0.03905682715007621\n",
      "MSE: 0.0031709414084812896\n",
      "RMSE: 0.0563111126553302\n",
      "Variance score: 0.07\n"
     ]
    }
   ],
   "source": [
    "# Score It\n",
    "from sklearn import metrics\n",
    "print('Coefficients: \\n', regressor_PCA.coef_)\n",
    "print('MAE:',metrics.mean_absolute_error(y_test_PCA,y_pred_PCA))\n",
    "print('MSE:',metrics.mean_squared_error(y_test_PCA,y_pred_PCA))\n",
    "print('RMSE:',np.sqrt(metrics.mean_squared_error(y_test_PCA,y_pred_PCA)))\n",
    "# Explained variance score: 1 is perfect prediction\n",
    "print('Variance score: %.2f' % metrics.r2_score(y_test_PCA, y_pred_PCA))"
   ]
  },
  {
   "cell_type": "markdown",
   "metadata": {},
   "source": [
    "- Using PCA does not reduce the model's predicted errors."
   ]
  },
  {
   "cell_type": "markdown",
   "metadata": {},
   "source": [
    "## 5. Visualize the residue and homoscedasticity<a name=\"question4\"></a>"
   ]
  },
  {
   "cell_type": "code",
   "execution_count": 43,
   "metadata": {},
   "outputs": [
    {
     "data": {
      "text/plain": [
       "<matplotlib.collections.PathCollection at 0x1a6aa2fccf8>"
      ]
     },
     "execution_count": 43,
     "metadata": {},
     "output_type": "execute_result"
    },
    {
     "data": {
      "image/png": "[encoded data removed]",
      "text/plain": [
       "<Figure size 432x288 with 1 Axes>"
      ]
     },
     "metadata": {
      "needs_background": "light"
     },
     "output_type": "display_data"
    }
   ],
   "source": [
    "# Actual and predictions\n",
    "plt.scatter(y_test, y_pred)"
   ]
  },
  {
   "cell_type": "markdown",
   "metadata": {},
   "source": [
    "- There are some unusual points.\n",
    "- From 0.2, the prediction model is incorrect. So no need to check homoscedasticity."
   ]
  },
  {
   "cell_type": "markdown",
   "metadata": {},
   "source": [
    "## 6. Tune the model if necessary<a name=\"question5\"></a>"
   ]
  },
  {
   "cell_type": "markdown",
   "metadata": {},
   "source": [
    "I use GridSearchCV for tuning"
   ]
  },
  {
   "cell_type": "code",
   "execution_count": 44,
   "metadata": {},
   "outputs": [
    {
     "data": {
      "text/plain": [
       "{'copy_X': True, 'fit_intercept': True, 'normalize': False}"
      ]
     },
     "execution_count": 44,
     "metadata": {},
     "output_type": "execute_result"
    }
   ],
   "source": [
    "from sklearn.model_selection import GridSearchCV\n",
    "X_train_grid, X_test_grid, y_train_grid, y_test_grid = train_test_split(X,y,random_state = 1)\n",
    "model = LinearRegression()\n",
    "parameters = {'fit_intercept':[True,False], 'normalize':[True,False], 'copy_X':[True, False]}\n",
    "grid = GridSearchCV(model,parameters, cv=10)\n",
    "grid.fit(X_train_grid, y_train_grid)\n",
    "grid.best_params_"
   ]
  },
  {
   "cell_type": "markdown",
   "metadata": {},
   "source": [
    "- The parameters that are fine-tuned by GridSearchCV are not different from the default parameters."
   ]
  },
  {
   "cell_type": "markdown",
   "metadata": {},
   "source": [
    "## 7. Write up analysis for each section (for example, explain why the model is overfitting, explain why applying PCA is better, etc.)<a name=\"question6\"></a>"
   ]
  },
  {
   "cell_type": "markdown",
   "metadata": {},
   "source": [
    "- In \"3.Apply the model for prediction with holdout and cross validation\".\n",
    "\n",
    "\n",
    "    - RMSE is 0.04367120504548294 greater than 50% of the mean of price (also Variance score is 0.44 much smaller than 1) so model is overfitting.\n",
    "    \n",
    "    - Coefficients: Room (0.284) and Landsize(0.641) have the most positive effects on price, Distance(-0.188) have the most negative effect on prices.\n",
    "    \n",
    "    \n",
    "- In \"4. Using PCA, apply the model with holdout and cross validation\". RMSE is 0.0563111126553302 (also Variance score is 0.07) so applying PCA is not better."
   ]
  },
  {
   "cell_type": "markdown",
   "metadata": {},
   "source": [
    "## 8. Include conclusions for summary<a name=\"question7\"></a>"
   ]
  },
  {
   "cell_type": "markdown",
   "metadata": {},
   "source": [
    "- The data used for building model is only about 50% of the original data.\n",
    "- The model does not have an accurate prediction when the price is from 0.2 (scaled).\n",
    "- Using PCA does not reduce the model's predicted errors.\n",
    "- The parameters that are fine-tuned by GridSearchCV are not different from the default parameters."
   ]
  }
 ],
 "metadata": {
  "kernelspec": {
   "display_name": "Python 3",
   "language": "python",
   "name": "python3"
  },
  "language_info": {
   "codemirror_mode": {
    "name": "ipython",
    "version": 3
   },
   "file_extension": ".py",
   "mimetype": "text/x-python",
   "name": "python",
   "nbconvert_exporter": "python",
   "pygments_lexer": "ipython3",
   "version": "3.7.1"
  }
 },
 "nbformat": 4,
 "nbformat_minor": 2
}
